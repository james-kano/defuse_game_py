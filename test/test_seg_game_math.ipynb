{
 "cells": [
  {
   "cell_type": "code",
   "execution_count": 1,
   "id": "7704c09c-5ae3-41dc-8c1d-29d6946d145e",
   "metadata": {
    "tags": []
   },
   "outputs": [],
   "source": [
    "import os\n",
    "os.chdir('..')\n",
    "\n",
    "from seg_game_typehinted import SevenSegButtonGame, MiniGame\n",
    "from rpi_tm1638_animations import TM1638Animated as Tm"
   ]
  },
  {
   "cell_type": "code",
   "execution_count": 2,
   "id": "f2e98ac9-fde1-4e22-86c5-37ec204ecb68",
   "metadata": {
    "tags": []
   },
   "outputs": [],
   "source": [
    "from random import randint\n",
    "from typing import Any, Dict, List"
   ]
  },
  {
   "cell_type": "code",
   "execution_count": 3,
   "id": "0822964e-d8a7-4c4f-abe5-5fb18b71cba7",
   "metadata": {
    "tags": []
   },
   "outputs": [
    {
     "name": "stdout",
     "output_type": "stream",
     "text": [
      "-----------------------------\n",
      "51\n",
      "2\n",
      "{3: 5, 5: 1}\n",
      "-----------------------------\n",
      "[5, 1]\n",
      "[8, 0, 2, 5, 7, 1, 8, 1]\n",
      "51 (00110011)\n"
     ]
    }
   ],
   "source": [
    "math_answer_num = randint(1, 256)\n",
    "math_answer_num_str = str(math_answer_num)\n",
    "math_win_length = len(math_answer_num_str)\n",
    "\n",
    "\n",
    "def math_setup(tm1638: Tm) -> Dict[str, Any]:\n",
    "    \"\"\"\n",
    "    Setup answers and starting display for math game\n",
    "    \"\"\"\n",
    "    # genrate the answer at random\n",
    "    answer_list = [int(i) for i in math_answer_num_str]\n",
    "    \n",
    "    # assign random segment positions to the answer integers\n",
    "    answer_int_positions = {}\n",
    "    for i in range(len(answer_list)):\n",
    "        rand_position = randint(0, tm1638.num_segments - 1)\n",
    "        while rand_position in answer_int_positions:\n",
    "            rand_position = randint(0, tm1638.num_segments - 1)\n",
    "        answer_int_positions[rand_position] = int(answer_list[i])\n",
    "    \n",
    "    # generate answer sequence and starting display\n",
    "    start_seg_display = [randint(0, 9) if i not in answer_int_positions\n",
    "                         else answer_int_positions[i]\n",
    "                         for i in range(tm1638.num_segments)]\n",
    "        \n",
    "    \n",
    "    print('-----------------------------')\n",
    "    print(math_answer_num)\n",
    "    print(math_win_length)\n",
    "    print(answer_int_positions)\n",
    "    print('-----------------------------')\n",
    "    print(answer_list)\n",
    "    print(start_seg_display)\n",
    "    print(f\"{math_answer_num} ({format(math_answer_num, '08b')})\")\n",
    "        \n",
    "    return_dict = {\n",
    "        'correct_answer_conditions': answer_list,\n",
    "        'game_seg_display': start_seg_display,\n",
    "        'game_LED_display': math_answer_num\n",
    "    }\n",
    "        \n",
    "    return return_dict\n",
    "\n",
    "\n",
    "def math_map_input(input_button: int,\n",
    "                   game_seg_display: List[int]) -> int:\n",
    "    \"\"\"\n",
    "    Maps the button input to corrsonding the segment display input\n",
    "    \"\"\"\n",
    "    input_button = game_seg_display[input_button]\n",
    "    print(f'selected_segment_int: {input_button}')\n",
    "    \n",
    "    return input_button\n",
    "\n",
    "\n",
    "def math_incorrect_answer_action(tm1638: Tm) -> List[Any]:\n",
    "    \"\"\"\n",
    "    Reset progress if incorrect for math game\n",
    "    \"\"\"\n",
    "    print(\"Error!\")\n",
    "    return 0\n",
    "\n",
    "\n",
    "math_game = MiniGame(win_length=math_win_length,\n",
    "                     setup_routine=math_setup,\n",
    "                     map_input = math_map_input,\n",
    "                     incorrect_answer_action=math_incorrect_answer_action,\n",
    "                     show_button_feedback=False,\n",
    "                     input_as_linear_int=True)\n",
    "\n",
    "seg_game = SevenSegButtonGame(stb=2,\n",
    "                              clk=3,\n",
    "                              dio=4,\n",
    "                              test_mode=True)\n",
    "seg_game.register_game('math', math_game)\n",
    "seg_game.setup()"
   ]
  },
  {
   "cell_type": "code",
   "execution_count": 4,
   "id": "1f166f5d-a1f4-4127-8afe-206ad22fcd37",
   "metadata": {
    "tags": []
   },
   "outputs": [
    {
     "data": {
      "text/plain": [
       "[5, 1]"
      ]
     },
     "execution_count": 4,
     "metadata": {},
     "output_type": "execute_result"
    }
   ],
   "source": [
    "# Check math game answers (all power of 2)\n",
    "math_game.correct_answer_conditions"
   ]
  },
  {
   "cell_type": "code",
   "execution_count": 5,
   "id": "7ec9dfd0-2387-427b-aaec-26802d9a1239",
   "metadata": {},
   "outputs": [
    {
     "data": {
      "text/plain": [
       "[8, 0, 2, 5, 7, 1, 8, 1]"
      ]
     },
     "execution_count": 5,
     "metadata": {},
     "output_type": "execute_result"
    }
   ],
   "source": [
    "# Check the start display\n",
    "math_game.game_seg_display"
   ]
  },
  {
   "cell_type": "code",
   "execution_count": 6,
   "id": "7e096353-33bf-4ecb-8fcf-757a458ad4de",
   "metadata": {
    "tags": []
   },
   "outputs": [],
   "source": [
    "def test_play(input):\n",
    "    print(f'playing: {input}')\n",
    "    math_game.play(1 << input)"
   ]
  },
  {
   "cell_type": "code",
   "execution_count": 7,
   "id": "ae86d3b2-4a5a-4b35-bba1-83b66b94f9d0",
   "metadata": {
    "tags": []
   },
   "outputs": [
    {
     "name": "stdout",
     "output_type": "stream",
     "text": [
      "playing: 0\n",
      "1 converted to: 0\n",
      "selected_segment_int: 8\n",
      "Error!\n",
      "\u001b[97m •  \u001b[0m\u001b[97m •  \u001b[0m\u001b[1m\u001b[31m *  \u001b[0m\u001b[1m\u001b[31m *  \u001b[0m\u001b[97m •  \u001b[0m\u001b[97m •  \u001b[0m\u001b[1m\u001b[31m *  \u001b[0m\u001b[1m\u001b[31m *  \u001b[0m\n",
      " \u001b[1m\u001b[31m_\u001b[0m   \u001b[1m\u001b[31m_\u001b[0m   \u001b[1m\u001b[31m_\u001b[0m   \u001b[1m\u001b[31m_\u001b[0m   \u001b[1m\u001b[31m_\u001b[0m   \u001b[97m_\u001b[0m   \u001b[1m\u001b[31m_\u001b[0m   \u001b[97m_\u001b[0m  \n",
      "\u001b[1m\u001b[31m|\u001b[0m\u001b[1m\u001b[31m_\u001b[0m\u001b[1m\u001b[31m|\u001b[0m \u001b[1m\u001b[31m|\u001b[0m\u001b[97m_\u001b[0m\u001b[1m\u001b[31m|\u001b[0m \u001b[97m|\u001b[0m\u001b[1m\u001b[31m_\u001b[0m\u001b[1m\u001b[31m|\u001b[0m \u001b[1m\u001b[31m|\u001b[0m\u001b[1m\u001b[31m_\u001b[0m\u001b[97m|\u001b[0m \u001b[97m|\u001b[0m\u001b[97m_\u001b[0m\u001b[1m\u001b[31m|\u001b[0m \u001b[97m|\u001b[0m\u001b[97m_\u001b[0m\u001b[1m\u001b[31m|\u001b[0m \u001b[1m\u001b[31m|\u001b[0m\u001b[1m\u001b[31m_\u001b[0m\u001b[1m\u001b[31m|\u001b[0m \u001b[97m|\u001b[0m\u001b[97m_\u001b[0m\u001b[1m\u001b[31m|\u001b[0m \n",
      "\u001b[1m\u001b[31m|\u001b[0m\u001b[1m\u001b[31m_\u001b[0m\u001b[1m\u001b[31m|\u001b[0m\u001b[97m.\u001b[0m\u001b[1m\u001b[31m|\u001b[0m\u001b[1m\u001b[31m_\u001b[0m\u001b[1m\u001b[31m|\u001b[0m\u001b[97m.\u001b[0m\u001b[1m\u001b[31m|\u001b[0m\u001b[1m\u001b[31m_\u001b[0m\u001b[97m|\u001b[0m\u001b[97m.\u001b[0m\u001b[97m|\u001b[0m\u001b[1m\u001b[31m_\u001b[0m\u001b[1m\u001b[31m|\u001b[0m\u001b[97m.\u001b[0m\u001b[97m|\u001b[0m\u001b[97m_\u001b[0m\u001b[1m\u001b[31m|\u001b[0m\u001b[97m.\u001b[0m\u001b[97m|\u001b[0m\u001b[97m_\u001b[0m\u001b[1m\u001b[31m|\u001b[0m\u001b[97m.\u001b[0m\u001b[1m\u001b[31m|\u001b[0m\u001b[1m\u001b[31m_\u001b[0m\u001b[1m\u001b[31m|\u001b[0m\u001b[97m.\u001b[0m\u001b[97m|\u001b[0m\u001b[97m_\u001b[0m\u001b[1m\u001b[31m|\u001b[0m\u001b[97m.\u001b[0m\n"
     ]
    }
   ],
   "source": [
    "test_play(0)"
   ]
  },
  {
   "cell_type": "code",
   "execution_count": 8,
   "id": "2488c602-c731-422e-8e14-69ec05245a32",
   "metadata": {
    "tags": []
   },
   "outputs": [
    {
     "name": "stdout",
     "output_type": "stream",
     "text": [
      "playing: 3\n",
      "8 converted to: 3\n",
      "selected_segment_int: 5\n",
      "\u001b[97m •  \u001b[0m\u001b[97m •  \u001b[0m\u001b[1m\u001b[31m *  \u001b[0m\u001b[1m\u001b[31m *  \u001b[0m\u001b[97m •  \u001b[0m\u001b[97m •  \u001b[0m\u001b[1m\u001b[31m *  \u001b[0m\u001b[1m\u001b[31m *  \u001b[0m\n",
      " \u001b[1m\u001b[31m_\u001b[0m   \u001b[1m\u001b[31m_\u001b[0m   \u001b[1m\u001b[31m_\u001b[0m   \u001b[1m\u001b[31m_\u001b[0m   \u001b[1m\u001b[31m_\u001b[0m   \u001b[97m_\u001b[0m   \u001b[1m\u001b[31m_\u001b[0m   \u001b[97m_\u001b[0m  \n",
      "\u001b[1m\u001b[31m|\u001b[0m\u001b[1m\u001b[31m_\u001b[0m\u001b[1m\u001b[31m|\u001b[0m \u001b[1m\u001b[31m|\u001b[0m\u001b[97m_\u001b[0m\u001b[1m\u001b[31m|\u001b[0m \u001b[97m|\u001b[0m\u001b[1m\u001b[31m_\u001b[0m\u001b[1m\u001b[31m|\u001b[0m \u001b[1m\u001b[31m|\u001b[0m\u001b[1m\u001b[31m_\u001b[0m\u001b[97m|\u001b[0m \u001b[97m|\u001b[0m\u001b[97m_\u001b[0m\u001b[1m\u001b[31m|\u001b[0m \u001b[97m|\u001b[0m\u001b[97m_\u001b[0m\u001b[1m\u001b[31m|\u001b[0m \u001b[1m\u001b[31m|\u001b[0m\u001b[1m\u001b[31m_\u001b[0m\u001b[1m\u001b[31m|\u001b[0m \u001b[97m|\u001b[0m\u001b[97m_\u001b[0m\u001b[1m\u001b[31m|\u001b[0m \n",
      "\u001b[1m\u001b[31m|\u001b[0m\u001b[1m\u001b[31m_\u001b[0m\u001b[1m\u001b[31m|\u001b[0m\u001b[97m.\u001b[0m\u001b[1m\u001b[31m|\u001b[0m\u001b[1m\u001b[31m_\u001b[0m\u001b[1m\u001b[31m|\u001b[0m\u001b[97m.\u001b[0m\u001b[1m\u001b[31m|\u001b[0m\u001b[1m\u001b[31m_\u001b[0m\u001b[97m|\u001b[0m\u001b[97m.\u001b[0m\u001b[97m|\u001b[0m\u001b[1m\u001b[31m_\u001b[0m\u001b[1m\u001b[31m|\u001b[0m\u001b[97m.\u001b[0m\u001b[97m|\u001b[0m\u001b[97m_\u001b[0m\u001b[1m\u001b[31m|\u001b[0m\u001b[97m.\u001b[0m\u001b[97m|\u001b[0m\u001b[97m_\u001b[0m\u001b[1m\u001b[31m|\u001b[0m\u001b[97m.\u001b[0m\u001b[1m\u001b[31m|\u001b[0m\u001b[1m\u001b[31m_\u001b[0m\u001b[1m\u001b[31m|\u001b[0m\u001b[97m.\u001b[0m\u001b[97m|\u001b[0m\u001b[97m_\u001b[0m\u001b[1m\u001b[31m|\u001b[0m\u001b[97m.\u001b[0m\n",
      "playing: 5\n",
      "32 converted to: 5\n",
      "selected_segment_int: 1\n",
      " \u001b[97m_\u001b[0m   \u001b[97m_\u001b[0m   \u001b[1m\u001b[31m_\u001b[0m   \u001b[1m\u001b[31m_\u001b[0m   \u001b[1m\u001b[31m_\u001b[0m   \u001b[1m\u001b[31m_\u001b[0m   \u001b[97m_\u001b[0m   \u001b[97m_\u001b[0m  \n",
      "\u001b[97m|\u001b[0m\u001b[1m\u001b[31m_\u001b[0m\u001b[97m|\u001b[0m \u001b[97m|\u001b[0m\u001b[1m\u001b[31m_\u001b[0m\u001b[97m|\u001b[0m \u001b[1m\u001b[31m|\u001b[0m\u001b[1m\u001b[31m_\u001b[0m\u001b[97m|\u001b[0m \u001b[1m\u001b[31m|\u001b[0m\u001b[1m\u001b[31m_\u001b[0m\u001b[1m\u001b[31m|\u001b[0m \u001b[1m\u001b[31m|\u001b[0m\u001b[1m\u001b[31m_\u001b[0m\u001b[97m|\u001b[0m \u001b[1m\u001b[31m|\u001b[0m\u001b[1m\u001b[31m_\u001b[0m\u001b[97m|\u001b[0m \u001b[97m|\u001b[0m\u001b[1m\u001b[31m_\u001b[0m\u001b[97m|\u001b[0m \u001b[97m|\u001b[0m\u001b[1m\u001b[31m_\u001b[0m\u001b[97m|\u001b[0m \n",
      "\u001b[97m|\u001b[0m\u001b[97m_\u001b[0m\u001b[97m|\u001b[0m\u001b[97m.\u001b[0m\u001b[97m|\u001b[0m\u001b[97m_\u001b[0m\u001b[97m|\u001b[0m\u001b[97m.\u001b[0m\u001b[97m|\u001b[0m\u001b[1m\u001b[31m_\u001b[0m\u001b[1m\u001b[31m|\u001b[0m\u001b[97m.\u001b[0m\u001b[1m\u001b[31m|\u001b[0m\u001b[97m_\u001b[0m\u001b[1m\u001b[31m|\u001b[0m\u001b[97m.\u001b[0m\u001b[1m\u001b[31m|\u001b[0m\u001b[97m_\u001b[0m\u001b[97m|\u001b[0m\u001b[97m.\u001b[0m\u001b[1m\u001b[31m|\u001b[0m\u001b[1m\u001b[31m_\u001b[0m\u001b[97m|\u001b[0m\u001b[97m.\u001b[0m\u001b[97m|\u001b[0m\u001b[97m_\u001b[0m\u001b[97m|\u001b[0m\u001b[97m.\u001b[0m\u001b[97m|\u001b[0m\u001b[97m_\u001b[0m\u001b[97m|\u001b[0m\u001b[97m.\u001b[0m\n"
     ]
    }
   ],
   "source": [
    "# Check all answers correct wins game\n",
    "for answer in math_game.correct_answer_conditions:\n",
    "    answer_pos = math_game.game_seg_display.index(answer)\n",
    "    test_play(answer_pos)"
   ]
  },
  {
   "cell_type": "code",
   "execution_count": 9,
   "id": "a9d4cf09-ed12-447c-9981-5bc933c8aea0",
   "metadata": {
    "tags": []
   },
   "outputs": [
    {
     "name": "stdout",
     "output_type": "stream",
     "text": [
      "playing: 0\n",
      " \u001b[97m_\u001b[0m   \u001b[97m_\u001b[0m   \u001b[1m\u001b[31m_\u001b[0m   \u001b[1m\u001b[31m_\u001b[0m   \u001b[1m\u001b[31m_\u001b[0m   \u001b[1m\u001b[31m_\u001b[0m   \u001b[97m_\u001b[0m   \u001b[97m_\u001b[0m  \n",
      "\u001b[97m|\u001b[0m\u001b[1m\u001b[31m_\u001b[0m\u001b[97m|\u001b[0m \u001b[97m|\u001b[0m\u001b[1m\u001b[31m_\u001b[0m\u001b[97m|\u001b[0m \u001b[1m\u001b[31m|\u001b[0m\u001b[1m\u001b[31m_\u001b[0m\u001b[97m|\u001b[0m \u001b[1m\u001b[31m|\u001b[0m\u001b[1m\u001b[31m_\u001b[0m\u001b[1m\u001b[31m|\u001b[0m \u001b[1m\u001b[31m|\u001b[0m\u001b[1m\u001b[31m_\u001b[0m\u001b[97m|\u001b[0m \u001b[1m\u001b[31m|\u001b[0m\u001b[1m\u001b[31m_\u001b[0m\u001b[97m|\u001b[0m \u001b[97m|\u001b[0m\u001b[1m\u001b[31m_\u001b[0m\u001b[97m|\u001b[0m \u001b[97m|\u001b[0m\u001b[1m\u001b[31m_\u001b[0m\u001b[97m|\u001b[0m \n",
      "\u001b[97m|\u001b[0m\u001b[97m_\u001b[0m\u001b[97m|\u001b[0m\u001b[97m.\u001b[0m\u001b[97m|\u001b[0m\u001b[97m_\u001b[0m\u001b[97m|\u001b[0m\u001b[97m.\u001b[0m\u001b[97m|\u001b[0m\u001b[1m\u001b[31m_\u001b[0m\u001b[1m\u001b[31m|\u001b[0m\u001b[97m.\u001b[0m\u001b[1m\u001b[31m|\u001b[0m\u001b[97m_\u001b[0m\u001b[1m\u001b[31m|\u001b[0m\u001b[97m.\u001b[0m\u001b[1m\u001b[31m|\u001b[0m\u001b[97m_\u001b[0m\u001b[97m|\u001b[0m\u001b[97m.\u001b[0m\u001b[1m\u001b[31m|\u001b[0m\u001b[1m\u001b[31m_\u001b[0m\u001b[97m|\u001b[0m\u001b[97m.\u001b[0m\u001b[97m|\u001b[0m\u001b[97m_\u001b[0m\u001b[97m|\u001b[0m\u001b[97m.\u001b[0m\u001b[97m|\u001b[0m\u001b[97m_\u001b[0m\u001b[97m|\u001b[0m\u001b[97m.\u001b[0m\n"
     ]
    }
   ],
   "source": [
    "# Check the game stays finished\n",
    "test_play(0)"
   ]
  },
  {
   "cell_type": "code",
   "execution_count": null,
   "id": "14e6ef73-eb88-443a-8a13-c9ee5b4b0c7e",
   "metadata": {},
   "outputs": [],
   "source": []
  }
 ],
 "metadata": {
  "kernelspec": {
   "display_name": "Python 3 (ipykernel)",
   "language": "python",
   "name": "python3"
  },
  "language_info": {
   "codemirror_mode": {
    "name": "ipython",
    "version": 3
   },
   "file_extension": ".py",
   "mimetype": "text/x-python",
   "name": "python",
   "nbconvert_exporter": "python",
   "pygments_lexer": "ipython3",
   "version": "3.11.5"
  }
 },
 "nbformat": 4,
 "nbformat_minor": 5
}
