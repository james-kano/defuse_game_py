{
 "cells": [
  {
   "cell_type": "code",
   "execution_count": 1,
   "id": "44a0d94e-ade7-4346-8e0c-420ca3a53f8b",
   "metadata": {
    "tags": []
   },
   "outputs": [],
   "source": [
    "import os\n",
    "os.chdir('..')\n",
    "\n",
    "from rpi_tm1638_animations import TM1638Animated"
   ]
  },
  {
   "cell_type": "code",
   "execution_count": 2,
   "id": "d65d3e20-21db-42b8-bb3f-58540b6d04bf",
   "metadata": {
    "tags": []
   },
   "outputs": [],
   "source": [
    "TM1638A = TM1638Animated(stb=2,\n",
    "                         clk=3,\n",
    "                         dio=4,\n",
    "                         test_mode=True)"
   ]
  },
  {
   "cell_type": "code",
   "execution_count": 3,
   "id": "e4e87da8-bee0-41b3-9495-30c91d417188",
   "metadata": {
    "tags": []
   },
   "outputs": [
    {
     "name": "stdout",
     "output_type": "stream",
     "text": [
      "Performing <ROLL animation>\n"
     ]
    }
   ],
   "source": [
    "TM1638A.roll()"
   ]
  },
  {
   "cell_type": "code",
   "execution_count": 4,
   "id": "d6b906cd-6c02-46f3-807b-8585761128f0",
   "metadata": {
    "tags": []
   },
   "outputs": [
    {
     "name": "stdout",
     "output_type": "stream",
     "text": [
      "Performing <display LINE>\n",
      "args: ('TEST LINE',), kwargs: {}\n"
     ]
    }
   ],
   "source": [
    "TM1638A.display_line(\"TEST LINE\")"
   ]
  },
  {
   "cell_type": "code",
   "execution_count": 5,
   "id": "c1594d25-9429-454e-9f9c-6b6113279b00",
   "metadata": {
    "tags": []
   },
   "outputs": [
    {
     "name": "stdout",
     "output_type": "stream",
     "text": [
      "LEDs: [* * * O O O O O]\n",
      "LEDs: [* * * * * O O O]\n"
     ]
    }
   ],
   "source": [
    "TM1638A.LEDs_from_left(3)\n",
    "TM1638A.LEDs_from_left(5)"
   ]
  }
 ],
 "metadata": {
  "kernelspec": {
   "display_name": "Python 3 (ipykernel)",
   "language": "python",
   "name": "python3"
  },
  "language_info": {
   "codemirror_mode": {
    "name": "ipython",
    "version": 3
   },
   "file_extension": ".py",
   "mimetype": "text/x-python",
   "name": "python",
   "nbconvert_exporter": "python",
   "pygments_lexer": "ipython3",
   "version": "3.11.5"
  }
 },
 "nbformat": 4,
 "nbformat_minor": 5
}
