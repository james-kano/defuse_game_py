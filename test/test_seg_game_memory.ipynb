{
 "cells": [
  {
   "cell_type": "code",
   "execution_count": 1,
   "id": "7704c09c-5ae3-41dc-8c1d-29d6946d145e",
   "metadata": {
    "tags": []
   },
   "outputs": [],
   "source": [
    "import os\n",
    "os.chdir('..')\n",
    "\n",
    "from seg_game_typehinted import SevenSegButtonGame, MiniGame"
   ]
  },
  {
   "cell_type": "code",
   "execution_count": 2,
   "id": "f2e98ac9-fde1-4e22-86c5-37ec204ecb68",
   "metadata": {
    "tags": []
   },
   "outputs": [],
   "source": [
    "from random import randint\n",
    "from typing import List"
   ]
  },
  {
   "cell_type": "code",
   "execution_count": 3,
   "id": "0822964e-d8a7-4c4f-abe5-5fb18b71cba7",
   "metadata": {
    "tags": []
   },
   "outputs": [],
   "source": [
    "mem_win_length = 5\n",
    "\n",
    "def memory_setup() -> List[int]:\n",
    "    \"\"\"\n",
    "    Setup answers and starting display for memory game\n",
    "    \"\"\"\n",
    "    memorable_sequence = [1 << randint(1, 8) for i in range(mem_win_length)]\n",
    "    return memorable_sequence\n",
    "\n",
    "\n",
    "def memory_correct_answer_action(progress: int) -> None:\n",
    "    \"\"\"\n",
    "    Display / response when a correct answer is given for memory game\n",
    "    \"\"\"\n",
    "    print(f\"correct: {progress}\")\n",
    "\n",
    "memory_game = MiniGame(win_length=mem_win_length)\n",
    "memory_game.setup_routine = memory_setup\n",
    "memory_game.correct_answer_action = memory_correct_answer_action\n",
    "\n",
    "seg_game = SevenSegButtonGame(stb=2,\n",
    "                              clk=3,\n",
    "                              dio=4,\n",
    "                              test_mode=True)\n",
    "seg_game.register_game('memory', memory_game)\n",
    "seg_game.setup()"
   ]
  },
  {
   "cell_type": "code",
   "execution_count": 4,
   "id": "62dbdb97-e611-4749-acc7-c7b8dd20f1f5",
   "metadata": {
    "tags": []
   },
   "outputs": [
    {
     "data": {
      "text/plain": [
       "{'memory': <seg_game_typehinted.MiniGame at 0x10c0b6b10>}"
      ]
     },
     "execution_count": 4,
     "metadata": {},
     "output_type": "execute_result"
    }
   ],
   "source": [
    "seg_game._game_register"
   ]
  },
  {
   "cell_type": "code",
   "execution_count": 5,
   "id": "1f166f5d-a1f4-4127-8afe-206ad22fcd37",
   "metadata": {
    "tags": []
   },
   "outputs": [
    {
     "data": {
      "text/plain": [
       "[32, 32, 8, 32, 8]"
      ]
     },
     "execution_count": 5,
     "metadata": {},
     "output_type": "execute_result"
    }
   ],
   "source": [
    "memory_game.correct_answer_conditions"
   ]
  },
  {
   "cell_type": "code",
   "execution_count": 6,
   "id": "ae86d3b2-4a5a-4b35-bba1-83b66b94f9d0",
   "metadata": {
    "tags": []
   },
   "outputs": [
    {
     "name": "stdout",
     "output_type": "stream",
     "text": [
      "Error\n"
     ]
    }
   ],
   "source": [
    "memory_game.play(5)"
   ]
  },
  {
   "cell_type": "code",
   "execution_count": 7,
   "id": "2488c602-c731-422e-8e14-69ec05245a32",
   "metadata": {
    "tags": []
   },
   "outputs": [
    {
     "name": "stdout",
     "output_type": "stream",
     "text": [
      "correct: 0\n",
      "correct: 1\n",
      "correct: 2\n",
      "correct: 3\n",
      "correct: 4\n",
      "Game won!\n"
     ]
    }
   ],
   "source": [
    "for answer in memory_game.correct_answer_conditions:\n",
    "    memory_game.play(answer)"
   ]
  },
  {
   "cell_type": "code",
   "execution_count": null,
   "id": "d2af2795-57f8-4d33-a6bc-14ec8cc15467",
   "metadata": {},
   "outputs": [],
   "source": []
  }
 ],
 "metadata": {
  "kernelspec": {
   "display_name": "Python 3 (ipykernel)",
   "language": "python",
   "name": "python3"
  },
  "language_info": {
   "codemirror_mode": {
    "name": "ipython",
    "version": 3
   },
   "file_extension": ".py",
   "mimetype": "text/x-python",
   "name": "python",
   "nbconvert_exporter": "python",
   "pygments_lexer": "ipython3",
   "version": "3.11.5"
  }
 },
 "nbformat": 4,
 "nbformat_minor": 5
}
