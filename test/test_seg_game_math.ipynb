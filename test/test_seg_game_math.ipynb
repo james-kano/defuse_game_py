{
 "cells": [
  {
   "cell_type": "code",
   "execution_count": 1,
   "id": "7704c09c-5ae3-41dc-8c1d-29d6946d145e",
   "metadata": {
    "tags": []
   },
   "outputs": [],
   "source": [
    "import os\n",
    "os.chdir('..')\n",
    "\n",
    "from seg_game_typehinted import SevenSegButtonGame, MiniGame\n",
    "from rpi_tm1638_animations import TM1638Animated as Tm"
   ]
  },
  {
   "cell_type": "code",
   "execution_count": 2,
   "id": "f2e98ac9-fde1-4e22-86c5-37ec204ecb68",
   "metadata": {
    "tags": []
   },
   "outputs": [],
   "source": [
    "from random import randint\n",
    "from typing import Any, List"
   ]
  },
  {
   "cell_type": "code",
   "execution_count": 3,
   "id": "0822964e-d8a7-4c4f-abe5-5fb18b71cba7",
   "metadata": {
    "tags": []
   },
   "outputs": [
    {
     "name": "stdout",
     "output_type": "stream",
     "text": [
      "-----------------------------\n",
      "85\n",
      "['8', '5']\n",
      "2\n",
      "{1: '8', 3: '5'}\n",
      "-----------------------------\n",
      "[1, 3]\n",
      "[5, '8', 9, '5', 6, 1, 1, 1]\n"
     ]
    }
   ],
   "source": [
    "math_answer_num = randint(1, 256)\n",
    "math_answer_num_str = str(math_answer_num)\n",
    "math_win_length = len(math_answer_num_str)\n",
    "\n",
    "\n",
    "def math_setup(tm1638: Tm) -> Any:\n",
    "    \"\"\"\n",
    "    Setup answers and starting display for math game\n",
    "    \"\"\"\n",
    "    # genrate the answer at random\n",
    "    answer_list = [i for i in math_answer_num_str]\n",
    "    \n",
    "    # assign random segment positions to the answer integers\n",
    "    answer_int_positions = {}\n",
    "    for i in range(len(answer_list)):\n",
    "        rand_position = randint(0, tm1638.num_segments - 1)\n",
    "        while rand_position in answer_int_positions:\n",
    "            rand_position = randint(0, tm1638.num_segments - 1)\n",
    "        answer_int_positions[rand_position] = answer_list[i]\n",
    "    \n",
    "    # generate answer sequence and starting display\n",
    "    answer_sequence = list(answer_int_positions.keys())\n",
    "    start_seg_display = [randint(0, 9) if i not in answer_int_positions\n",
    "                         else answer_int_positions[i]\n",
    "                         for i in range(tm1638.num_segments)]\n",
    "    \n",
    "    \n",
    "    print('-----------------------------')\n",
    "    print(math_answer_num)\n",
    "    print(answer_list)\n",
    "    print(math_win_length)\n",
    "    print(answer_int_positions)\n",
    "    print('-----------------------------')\n",
    "    print(answer_sequence)\n",
    "    print(start_seg_display)\n",
    "        \n",
    "        \n",
    "    return answer_sequence, start_seg_display\n",
    "\n",
    "\n",
    "def math_incorrect_answer_action() -> List[Any]:\n",
    "    \"\"\"\n",
    "    Reset progress if incorrect for math game\n",
    "    \"\"\"\n",
    "    return 0\n",
    "\n",
    "\n",
    "math_game = MiniGame(win_length=math_win_length,\n",
    "                     setup_routine=math_setup,\n",
    "                     incorrect_answer_action=math_incorrect_answer_action,\n",
    "                     show_button_feedback=False)\n",
    "\n",
    "seg_game = SevenSegButtonGame(stb=2,\n",
    "                              clk=3,\n",
    "                              dio=4,\n",
    "                              test_mode=True)\n",
    "seg_game.register_game('math', math_game)\n",
    "seg_game.setup()"
   ]
  },
  {
   "cell_type": "code",
   "execution_count": 4,
   "id": "62dbdb97-e611-4749-acc7-c7b8dd20f1f5",
   "metadata": {
    "tags": []
   },
   "outputs": [
    {
     "data": {
      "text/plain": [
       "{'math': <seg_game_typehinted.MiniGame at 0x10772a2d0>}"
      ]
     },
     "execution_count": 4,
     "metadata": {},
     "output_type": "execute_result"
    }
   ],
   "source": [
    "seg_game._game_register"
   ]
  },
  {
   "cell_type": "code",
   "execution_count": 5,
   "id": "a7f4fa09-5f10-453f-91db-b12d61cddd60",
   "metadata": {
    "tags": []
   },
   "outputs": [
    {
     "name": "stdout",
     "output_type": "stream",
     "text": [
      "<clear dislpay>\n",
      "Performing <ROLL animation>\n",
      "<clear dislpay>\n",
      "LEDs: [* O O O O O O O]\n"
     ]
    }
   ],
   "source": [
    "seg_game.show_selected_game()"
   ]
  },
  {
   "cell_type": "code",
   "execution_count": 6,
   "id": "1f166f5d-a1f4-4127-8afe-206ad22fcd37",
   "metadata": {
    "tags": []
   },
   "outputs": [
    {
     "data": {
      "text/plain": [
       "[1, 3]"
      ]
     },
     "execution_count": 6,
     "metadata": {},
     "output_type": "execute_result"
    }
   ],
   "source": [
    "# Check math game answers (all power of 2)\n",
    "math_game.correct_answer_conditions"
   ]
  },
  {
   "cell_type": "code",
   "execution_count": 7,
   "id": "7ec9dfd0-2387-427b-aaec-26802d9a1239",
   "metadata": {},
   "outputs": [
    {
     "data": {
      "text/plain": [
       "[5, '8', 9, '5', 6, 1, 1, 1]"
      ]
     },
     "execution_count": 7,
     "metadata": {},
     "output_type": "execute_result"
    }
   ],
   "source": [
    "# Check the start display\n",
    "math_game.game_seg_display"
   ]
  },
  {
   "cell_type": "code",
   "execution_count": 8,
   "id": "ae86d3b2-4a5a-4b35-bba1-83b66b94f9d0",
   "metadata": {
    "tags": []
   },
   "outputs": [
    {
     "name": "stdout",
     "output_type": "stream",
     "text": [
      "Performing <display LINE>\n",
      "args: ([5, '8', 9, '5', 6, 1, 1, 1],), kwargs: {}\n"
     ]
    }
   ],
   "source": [
    "# Check incorrect resposne\n",
    "math_game.play(5)"
   ]
  },
  {
   "cell_type": "code",
   "execution_count": 9,
   "id": "2488c602-c731-422e-8e14-69ec05245a32",
   "metadata": {
    "tags": []
   },
   "outputs": [
    {
     "name": "stdout",
     "output_type": "stream",
     "text": [
      "Performing <display LINE>\n",
      "args: ([5, '8', 9, '5', 6, 1, 1, 1],), kwargs: {}\n",
      "Game won!\n"
     ]
    }
   ],
   "source": [
    "# Check all answers correct wins game\n",
    "for answer in math_game.correct_answer_conditions:\n",
    "    math_game.play(answer)"
   ]
  },
  {
   "cell_type": "code",
   "execution_count": 10,
   "id": "a9d4cf09-ed12-447c-9981-5bc933c8aea0",
   "metadata": {
    "tags": []
   },
   "outputs": [
    {
     "name": "stdout",
     "output_type": "stream",
     "text": [
      "Game won!\n"
     ]
    }
   ],
   "source": [
    "# Check the game stays finished\n",
    "math_game.play(5)"
   ]
  },
  {
   "cell_type": "code",
   "execution_count": null,
   "id": "12a1a3b8-2119-4815-a6a2-8b61045fd297",
   "metadata": {},
   "outputs": [],
   "source": []
  },
  {
   "cell_type": "code",
   "execution_count": null,
   "id": "345ae801-6a93-47f3-989b-59dc4d68bf43",
   "metadata": {},
   "outputs": [],
   "source": []
  },
  {
   "cell_type": "code",
   "execution_count": null,
   "id": "84053707-d2ca-41e7-8fad-db1469628dcb",
   "metadata": {},
   "outputs": [],
   "source": []
  },
  {
   "cell_type": "code",
   "execution_count": null,
   "id": "1bf12b02-65af-4c6d-91fa-2a14ec92465f",
   "metadata": {
    "tags": []
   },
   "outputs": [],
   "source": []
  },
  {
   "cell_type": "code",
   "execution_count": null,
   "id": "3c394fdb-8881-4ebc-a682-fa48d90a492f",
   "metadata": {},
   "outputs": [],
   "source": []
  }
 ],
 "metadata": {
  "kernelspec": {
   "display_name": "Python 3 (ipykernel)",
   "language": "python",
   "name": "python3"
  },
  "language_info": {
   "codemirror_mode": {
    "name": "ipython",
    "version": 3
   },
   "file_extension": ".py",
   "mimetype": "text/x-python",
   "name": "python",
   "nbconvert_exporter": "python",
   "pygments_lexer": "ipython3",
   "version": "3.11.5"
  }
 },
 "nbformat": 4,
 "nbformat_minor": 5
}
