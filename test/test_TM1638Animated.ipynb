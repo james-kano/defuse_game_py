{
 "cells": [
  {
   "cell_type": "code",
   "execution_count": 1,
   "id": "44a0d94e-ade7-4346-8e0c-420ca3a53f8b",
   "metadata": {
    "tags": []
   },
   "outputs": [],
   "source": [
    "import os\n",
    "os.chdir('..')\n",
    "\n",
    "from rpi_tm1638_animations import TM1638Animated"
   ]
  },
  {
   "cell_type": "code",
   "execution_count": 2,
   "id": "d65d3e20-21db-42b8-bb3f-58540b6d04bf",
   "metadata": {
    "tags": []
   },
   "outputs": [],
   "source": [
    "TM1638A = TM1638Animated(stb=2,\n",
    "                         clk=3,\n",
    "                         dio=4,\n",
    "                         test_mode=True)"
   ]
  },
  {
   "cell_type": "code",
   "execution_count": 3,
   "id": "e4e87da8-bee0-41b3-9495-30c91d417188",
   "metadata": {
    "tags": []
   },
   "outputs": [
    {
     "name": "stdout",
     "output_type": "stream",
     "text": [
      "Performing <ROLL animation>\n"
     ]
    }
   ],
   "source": [
    "TM1638A.roll()"
   ]
  },
  {
   "cell_type": "code",
   "execution_count": 4,
   "id": "d6b906cd-6c02-46f3-807b-8585761128f0",
   "metadata": {
    "tags": []
   },
   "outputs": [
    {
     "ename": "AssertionError",
     "evalue": "This board is currently configured for a maximum of 8 segment displays. Use self.scroll() for longer display lines",
     "output_type": "error",
     "traceback": [
      "\u001b[0;31m---------------------------------------------------------------------------\u001b[0m",
      "\u001b[0;31mAssertionError\u001b[0m                            Traceback (most recent call last)",
      "Cell \u001b[0;32mIn[4], line 1\u001b[0m\n\u001b[0;32m----> 1\u001b[0m TM1638A\u001b[38;5;241m.\u001b[39mdisplay_line(\u001b[38;5;124m\"\u001b[39m\u001b[38;5;124mTEST LINE\u001b[39m\u001b[38;5;124m\"\u001b[39m)\n",
      "File \u001b[0;32m~/Documents/B_defuse_game/defuse_game_py/rpi_tm1638_animations.py:95\u001b[0m, in \u001b[0;36mTM1638Animated.display_line\u001b[0;34m(self, line)\u001b[0m\n\u001b[1;32m     89\u001b[0m \u001b[38;5;28;01mdef\u001b[39;00m \u001b[38;5;21mdisplay_line\u001b[39m(\u001b[38;5;28mself\u001b[39m,\n\u001b[1;32m     90\u001b[0m                  line):\n\u001b[1;32m     91\u001b[0m \u001b[38;5;250m    \u001b[39m\u001b[38;5;124;03m\"\"\"\u001b[39;00m\n\u001b[1;32m     92\u001b[0m \u001b[38;5;124;03m    Displays a line of custom values\u001b[39;00m\n\u001b[1;32m     93\u001b[0m \u001b[38;5;124;03m    :param line:\u001b[39;00m\n\u001b[1;32m     94\u001b[0m \u001b[38;5;124;03m    \"\"\"\u001b[39;00m\n\u001b[0;32m---> 95\u001b[0m     \u001b[38;5;28;01massert\u001b[39;00m \u001b[38;5;28mlen\u001b[39m(line) \u001b[38;5;241m<\u001b[39m\u001b[38;5;241m=\u001b[39m \u001b[38;5;28mself\u001b[39m\u001b[38;5;241m.\u001b[39mnum_segments, \\\n\u001b[1;32m     96\u001b[0m         \u001b[38;5;124mf\u001b[39m\u001b[38;5;124m\"\u001b[39m\u001b[38;5;124mThis board is currently configured for a maximum of \u001b[39m\u001b[38;5;132;01m{\u001b[39;00m\u001b[38;5;28mself\u001b[39m\u001b[38;5;241m.\u001b[39mnum_segments\u001b[38;5;132;01m}\u001b[39;00m\u001b[38;5;124m segment displays. \u001b[39m\u001b[38;5;124m\"\u001b[39m \\\n\u001b[1;32m     97\u001b[0m         \u001b[38;5;124m\"\u001b[39m\u001b[38;5;124mUse self.scroll() for longer display lines\u001b[39m\u001b[38;5;124m\"\u001b[39m\n\u001b[1;32m     99\u001b[0m     \u001b[38;5;28;01mif\u001b[39;00m \u001b[38;5;28mself\u001b[39m\u001b[38;5;241m.\u001b[39mtest_mode:\n\u001b[1;32m    100\u001b[0m         test_seg \u001b[38;5;241m=\u001b[39m seg_mock()\n",
      "\u001b[0;31mAssertionError\u001b[0m: This board is currently configured for a maximum of 8 segment displays. Use self.scroll() for longer display lines"
     ]
    }
   ],
   "source": [
    "TM1638A.display_line(\"TEST LINE\")"
   ]
  },
  {
   "cell_type": "code",
   "execution_count": 5,
   "id": "c1594d25-9429-454e-9f9c-6b6113279b00",
   "metadata": {
    "tags": []
   },
   "outputs": [
    {
     "name": "stdout",
     "output_type": "stream",
     "text": [
      "\u001b[1m\u001b[31m *  \u001b[0m\u001b[1m\u001b[31m *  \u001b[0m\u001b[1m\u001b[31m *  \u001b[0m\u001b[97m •  \u001b[0m\u001b[97m •  \u001b[0m\u001b[97m •  \u001b[0m\u001b[97m •  \u001b[0m\u001b[97m •  \u001b[0m\n",
      "\u001b[1m\u001b[31m *  \u001b[0m\u001b[1m\u001b[31m *  \u001b[0m\u001b[1m\u001b[31m *  \u001b[0m\u001b[1m\u001b[31m *  \u001b[0m\u001b[1m\u001b[31m *  \u001b[0m\u001b[97m •  \u001b[0m\u001b[97m •  \u001b[0m\u001b[97m •  \u001b[0m\n"
     ]
    }
   ],
   "source": [
    "TM1638A.LEDs_from_left(3)\n",
    "TM1638A.LEDs_from_left(5)"
   ]
  },
  {
   "cell_type": "code",
   "execution_count": null,
   "id": "6bacde10-1ad1-4f30-8ac8-d004845091d6",
   "metadata": {},
   "outputs": [],
   "source": []
  }
 ],
 "metadata": {
  "kernelspec": {
   "display_name": "Python 3 (ipykernel)",
   "language": "python",
   "name": "python3"
  },
  "language_info": {
   "codemirror_mode": {
    "name": "ipython",
    "version": 3
   },
   "file_extension": ".py",
   "mimetype": "text/x-python",
   "name": "python",
   "nbconvert_exporter": "python",
   "pygments_lexer": "ipython3",
   "version": "3.11.5"
  }
 },
 "nbformat": 4,
 "nbformat_minor": 5
}
