{
 "cells": [
  {
   "cell_type": "code",
   "execution_count": 1,
   "id": "7704c09c-5ae3-41dc-8c1d-29d6946d145e",
   "metadata": {
    "tags": []
   },
   "outputs": [],
   "source": [
    "import os\n",
    "os.chdir('..')\n",
    "\n",
    "from seg_game_typehinted import SevenSegButtonGame, MiniGame\n",
    "from rpi_tm1638_animations import TM1638Animated as Tm"
   ]
  },
  {
   "cell_type": "code",
   "execution_count": 2,
   "id": "f2e98ac9-fde1-4e22-86c5-37ec204ecb68",
   "metadata": {
    "tags": []
   },
   "outputs": [],
   "source": [
    "from random import randint\n",
    "from typing import Any, Dict, List"
   ]
  },
  {
   "cell_type": "code",
   "execution_count": 3,
   "id": "0822964e-d8a7-4c4f-abe5-5fb18b71cba7",
   "metadata": {
    "tags": []
   },
   "outputs": [
    {
     "ename": "SyntaxError",
     "evalue": "expression expected after dictionary key and ':' (1982400918.py, line 12)",
     "output_type": "error",
     "traceback": [
      "\u001b[0;36m  Cell \u001b[0;32mIn[3], line 12\u001b[0;36m\u001b[0m\n\u001b[0;31m    'correct_answer_conditions': ,\u001b[0m\n\u001b[0m                               ^\u001b[0m\n\u001b[0;31mSyntaxError\u001b[0m\u001b[0;31m:\u001b[0m expression expected after dictionary key and ':'\n"
     ]
    }
   ],
   "source": [
    "math_answer_num = randint(1, 256)\n",
    "math_answer_num_str = str(math_answer_num)\n",
    "math_win_length = len(math_answer_num_str)\n",
    "\n",
    "\n",
    "def space_setup(tm1638: Tm) -> Dict[str, Any]:\n",
    "    \"\"\"\n",
    "    Setup answers and starting display for space game\n",
    "    \"\"\"\n",
    "        \n",
    "    return_dict = {\n",
    "        'correct_answer_conditions': ,\n",
    "        'game_seg_display': ,\n",
    "        'game_LED_display': \n",
    "    }\n",
    "        \n",
    "    return return_dict\n",
    "\n",
    "\n",
    "def sapce_map_input(input_button: int,\n",
    "                   game_seg_display: List[int]) -> int:\n",
    "    \"\"\"\n",
    "    Maps the button input to corrsonding the segment display input\n",
    "    \"\"\"\n",
    "    input_button = game_seg_display[input_button]\n",
    "    print(f'selected_segment_int: {input_button}')\n",
    "    \n",
    "    return input_button\n",
    "\n",
    "\n",
    "def space_incorrect_answer_action(tm1638: Tm) -> List[Any]:\n",
    "    \"\"\"\n",
    "    Reset progress if incorrect for math game\n",
    "    \"\"\"\n",
    "    print(\"Error!\")\n",
    "    return 0\n",
    "\n",
    "\n",
    "space_game = MiniGame(win_length=,\n",
    "                      setup_routine=,\n",
    "                      map_input =,\n",
    "                      incorrect_answer_action=,\n",
    "                      show_button_feedback=False,\n",
    "                      input_as_linear_int=True)\n",
    "\n",
    "seg_game = SevenSegButtonGame(stb=2,\n",
    "                              clk=3,\n",
    "                              dio=4,\n",
    "                              test_mode=True)\n",
    "seg_game.register_game('space', space_game)\n",
    "seg_game.setup()"
   ]
  },
  {
   "cell_type": "code",
   "execution_count": null,
   "id": "1f166f5d-a1f4-4127-8afe-206ad22fcd37",
   "metadata": {
    "tags": []
   },
   "outputs": [],
   "source": [
    "# Check math game answers (all power of 2)\n",
    "space_game.correct_answer_conditions"
   ]
  },
  {
   "cell_type": "code",
   "execution_count": null,
   "id": "7ec9dfd0-2387-427b-aaec-26802d9a1239",
   "metadata": {},
   "outputs": [],
   "source": [
    "# Check the start display\n",
    "space_game.game_seg_display"
   ]
  },
  {
   "cell_type": "code",
   "execution_count": null,
   "id": "7e096353-33bf-4ecb-8fcf-757a458ad4de",
   "metadata": {
    "tags": []
   },
   "outputs": [],
   "source": [
    "def test_play(input):\n",
    "    print(f'playing: {input}')\n",
    "    space_game.play(1 << input)"
   ]
  },
  {
   "cell_type": "code",
   "execution_count": null,
   "id": "ae86d3b2-4a5a-4b35-bba1-83b66b94f9d0",
   "metadata": {
    "tags": []
   },
   "outputs": [],
   "source": [
    "test_play(0)"
   ]
  },
  {
   "cell_type": "code",
   "execution_count": null,
   "id": "2488c602-c731-422e-8e14-69ec05245a32",
   "metadata": {
    "tags": []
   },
   "outputs": [],
   "source": [
    "# Check all answers correct wins game\n",
    "for answer in space_game.correct_answer_conditions:\n",
    "    answer_pos = space_game.game_seg_display.index(answer)\n",
    "    test_play(answer_pos)"
   ]
  },
  {
   "cell_type": "code",
   "execution_count": null,
   "id": "a9d4cf09-ed12-447c-9981-5bc933c8aea0",
   "metadata": {
    "tags": []
   },
   "outputs": [],
   "source": [
    "# Check the game stays finished\n",
    "test_play(0)"
   ]
  },
  {
   "cell_type": "code",
   "execution_count": null,
   "id": "6da5296c-44ee-4de8-9124-1addd5a8ffb9",
   "metadata": {},
   "outputs": [],
   "source": []
  },
  {
   "cell_type": "code",
   "execution_count": null,
   "id": "3fdcae2d-9523-4e4c-9aa6-325bf09fa863",
   "metadata": {},
   "outputs": [],
   "source": []
  },
  {
   "cell_type": "code",
   "execution_count": null,
   "id": "177d7cc2-7e7e-4ca7-bb1f-3f1bf0e612aa",
   "metadata": {},
   "outputs": [],
   "source": []
  },
  {
   "cell_type": "code",
   "execution_count": null,
   "id": "55c71ea5-b8e3-4503-91e0-c7ce9fd3c984",
   "metadata": {
    "tags": []
   },
   "outputs": [],
   "source": [
    "# from typing import Dict, List, Optional"
   ]
  },
  {
   "cell_type": "code",
   "execution_count": 4,
   "id": "0bdc0af7-6f22-46c4-93f3-d2656f9e9f76",
   "metadata": {},
   "outputs": [],
   "source": [
    "from display_mocks import seg_mock"
   ]
  },
  {
   "cell_type": "code",
   "execution_count": 5,
   "id": "7b8c7822-3b5a-4d82-92ac-34d8eae9b4c3",
   "metadata": {
    "tags": []
   },
   "outputs": [
    {
     "name": "stdout",
     "output_type": "stream",
     "text": [
      " \u001b[1m\u001b[31m_\u001b[0m   \u001b[1m\u001b[31m_\u001b[0m   \u001b[1m\u001b[31m_\u001b[0m   \u001b[1m\u001b[31m_\u001b[0m  \n",
      "\u001b[97m|\u001b[0m\u001b[1m\u001b[31m_\u001b[0m\u001b[1m\u001b[31m|\u001b[0m \u001b[97m|\u001b[0m\u001b[1m\u001b[31m_\u001b[0m\u001b[1m\u001b[31m|\u001b[0m \u001b[1m\u001b[31m|\u001b[0m\u001b[1m\u001b[31m_\u001b[0m\u001b[97m|\u001b[0m \u001b[1m\u001b[31m|\u001b[0m\u001b[97m_\u001b[0m\u001b[1m\u001b[31m|\u001b[0m \n",
      "\u001b[1m\u001b[31m|\u001b[0m\u001b[1m\u001b[31m_\u001b[0m\u001b[97m|\u001b[0m\u001b[97m.\u001b[0m\u001b[97m|\u001b[0m\u001b[1m\u001b[31m_\u001b[0m\u001b[1m\u001b[31m|\u001b[0m\u001b[97m.\u001b[0m\u001b[97m|\u001b[0m\u001b[1m\u001b[31m_\u001b[0m\u001b[1m\u001b[31m|\u001b[0m\u001b[97m.\u001b[0m\u001b[1m\u001b[31m|\u001b[0m\u001b[1m\u001b[31m_\u001b[0m\u001b[1m\u001b[31m|\u001b[0m\u001b[97m.\u001b[0m\n"
     ]
    }
   ],
   "source": [
    "sevseg = seg_mock()\n",
    "sevseg.print_segs(2350)"
   ]
  },
  {
   "cell_type": "code",
   "execution_count": 6,
   "id": "f84cf903-0c31-47b8-905c-17332c6848dd",
   "metadata": {
    "tags": []
   },
   "outputs": [
    {
     "name": "stdout",
     "output_type": "stream",
     "text": [
      " \u001b[97m_\u001b[0m   \u001b[97m_\u001b[0m  \n",
      "\u001b[97m|\u001b[0m\u001b[97m_\u001b[0m\u001b[1m\u001b[31m|\u001b[0m \u001b[97m|\u001b[0m\u001b[97m_\u001b[0m\u001b[1m\u001b[31m|\u001b[0m \n",
      "\u001b[97m|\u001b[0m\u001b[97m_\u001b[0m\u001b[1m\u001b[31m|\u001b[0m\u001b[1m\u001b[31m.\u001b[0m\u001b[97m|\u001b[0m\u001b[97m_\u001b[0m\u001b[1m\u001b[31m|\u001b[0m\u001b[97m.\u001b[0m\n"
     ]
    }
   ],
   "source": [
    "sevseg.print_segs(1.1)"
   ]
  },
  {
   "cell_type": "code",
   "execution_count": 7,
   "id": "b0b21562-60d5-417c-ad4e-022d71754b87",
   "metadata": {
    "tags": []
   },
   "outputs": [
    {
     "name": "stdout",
     "output_type": "stream",
     "text": [
      " \u001b[1m\u001b[31m_\u001b[0m   \u001b[1m\u001b[31m_\u001b[0m   \u001b[1m\u001b[31m_\u001b[0m   \u001b[1m\u001b[31m_\u001b[0m  \n",
      "\u001b[97m|\u001b[0m\u001b[1m\u001b[31m_\u001b[0m\u001b[1m\u001b[31m|\u001b[0m \u001b[97m|\u001b[0m\u001b[1m\u001b[31m_\u001b[0m\u001b[1m\u001b[31m|\u001b[0m \u001b[1m\u001b[31m|\u001b[0m\u001b[1m\u001b[31m_\u001b[0m\u001b[97m|\u001b[0m \u001b[1m\u001b[31m|\u001b[0m\u001b[97m_\u001b[0m\u001b[1m\u001b[31m|\u001b[0m \n",
      "\u001b[1m\u001b[31m|\u001b[0m\u001b[1m\u001b[31m_\u001b[0m\u001b[97m|\u001b[0m\u001b[97m.\u001b[0m\u001b[97m|\u001b[0m\u001b[1m\u001b[31m_\u001b[0m\u001b[1m\u001b[31m|\u001b[0m\u001b[1m\u001b[31m.\u001b[0m\u001b[97m|\u001b[0m\u001b[1m\u001b[31m_\u001b[0m\u001b[1m\u001b[31m|\u001b[0m\u001b[1m\u001b[31m.\u001b[0m\u001b[1m\u001b[31m|\u001b[0m\u001b[1m\u001b[31m_\u001b[0m\u001b[1m\u001b[31m|\u001b[0m\u001b[97m.\u001b[0m\n"
     ]
    }
   ],
   "source": [
    "sevseg.print_segs(\"23.5.0\")"
   ]
  },
  {
   "cell_type": "code",
   "execution_count": 8,
   "id": "79ee6d98-5030-4e10-806b-5c5402aa04cf",
   "metadata": {
    "tags": []
   },
   "outputs": [
    {
     "name": "stdout",
     "output_type": "stream",
     "text": [
      " \u001b[97m_\u001b[0m   \u001b[1m\u001b[31m_\u001b[0m   \u001b[1m\u001b[31m_\u001b[0m  \n",
      "\u001b[97m|\u001b[0m\u001b[97m_\u001b[0m\u001b[1m\u001b[31m|\u001b[0m \u001b[97m|\u001b[0m\u001b[1m\u001b[31m_\u001b[0m\u001b[1m\u001b[31m|\u001b[0m \u001b[97m|\u001b[0m\u001b[1m\u001b[31m_\u001b[0m\u001b[1m\u001b[31m|\u001b[0m \n",
      "\u001b[97m|\u001b[0m\u001b[97m_\u001b[0m\u001b[1m\u001b[31m|\u001b[0m\u001b[97m.\u001b[0m\u001b[1m\u001b[31m|\u001b[0m\u001b[1m\u001b[31m_\u001b[0m\u001b[97m|\u001b[0m\u001b[1m\u001b[31m.\u001b[0m\u001b[97m|\u001b[0m\u001b[1m\u001b[31m_\u001b[0m\u001b[1m\u001b[31m|\u001b[0m\u001b[97m.\u001b[0m\n"
     ]
    }
   ],
   "source": [
    "sevseg.print_segs(\"12.3\")"
   ]
  },
  {
   "cell_type": "markdown",
   "id": "559862e2-04be-4edf-9ad5-98e9aff829a8",
   "metadata": {},
   "source": [
    "ToDo:\n",
    " - Add the colors to the LEDs too :)"
   ]
  },
  {
   "cell_type": "code",
   "execution_count": null,
   "id": "e52536e1-ccd8-403a-a4da-1eb9b6ecab42",
   "metadata": {
    "tags": []
   },
   "outputs": [],
   "source": [
    "str(format(91, '08b'))"
   ]
  },
  {
   "cell_type": "code",
   "execution_count": null,
   "id": "2902ffdf-47d4-427c-8784-d3b83d77bf8d",
   "metadata": {
    "tags": []
   },
   "outputs": [],
   "source": []
  },
  {
   "cell_type": "code",
   "execution_count": null,
   "id": "d1f0186d-d25d-4c5d-b5c2-cdfa01b2b433",
   "metadata": {
    "tags": []
   },
   "outputs": [],
   "source": [
    "i = 0\n",
    "while i < 5:\n",
    "    if i == 2:\n",
    "        i+=1\n",
    "    print(i)\n",
    "    i += 1"
   ]
  },
  {
   "cell_type": "code",
   "execution_count": null,
   "id": "6d8a4374-43e7-42d1-9e40-6d2201dc4923",
   "metadata": {},
   "outputs": [],
   "source": []
  },
  {
   "cell_type": "code",
   "execution_count": null,
   "id": "fbc855f5-9241-4fdf-b52b-e2221e7bf4f4",
   "metadata": {},
   "outputs": [],
   "source": []
  }
 ],
 "metadata": {
  "kernelspec": {
   "display_name": "Python 3 (ipykernel)",
   "language": "python",
   "name": "python3"
  },
  "language_info": {
   "codemirror_mode": {
    "name": "ipython",
    "version": 3
   },
   "file_extension": ".py",
   "mimetype": "text/x-python",
   "name": "python",
   "nbconvert_exporter": "python",
   "pygments_lexer": "ipython3",
   "version": "3.11.5"
  }
 },
 "nbformat": 4,
 "nbformat_minor": 5
}
