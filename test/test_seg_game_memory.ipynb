{
 "cells": [
  {
   "cell_type": "code",
   "execution_count": 1,
   "id": "7704c09c-5ae3-41dc-8c1d-29d6946d145e",
   "metadata": {
    "tags": []
   },
   "outputs": [],
   "source": [
    "import os\n",
    "os.chdir('..')\n",
    "\n",
    "from seg_game_typehinted import SevenSegButtonGame, MiniGame"
   ]
  },
  {
   "cell_type": "code",
   "execution_count": 2,
   "id": "f2e98ac9-fde1-4e22-86c5-37ec204ecb68",
   "metadata": {
    "tags": []
   },
   "outputs": [],
   "source": [
    "from random import randint\n",
    "from typing import Any, Dict, List"
   ]
  },
  {
   "cell_type": "code",
   "execution_count": 3,
   "id": "0822964e-d8a7-4c4f-abe5-5fb18b71cba7",
   "metadata": {
    "tags": []
   },
   "outputs": [],
   "source": [
    "mem_win_length = 5\n",
    "\n",
    "def memory_setup() -> Dict[str, Any]:\n",
    "    \"\"\"\n",
    "    Setup answers and starting display for memory game\n",
    "    \"\"\"\n",
    "    memorable_sequence = [1 << randint(0, 7) for i in range(mem_win_length)]\n",
    "    start_seg_display = ['-']*mem_win_length\n",
    "    \n",
    "    return_dict = {\n",
    "        'correct_answer_conditions': memorable_sequence,\n",
    "        'game_seg_display': start_seg_display,\n",
    "    }\n",
    "        \n",
    "    return return_dict\n",
    "\n",
    "\n",
    "def memory_correct_answer_action(progress: int) -> List[Any]:\n",
    "    \"\"\"\n",
    "    Display / response when a correct answer is given for memory game\n",
    "    \"\"\"\n",
    "    print(progress)\n",
    "    current_seg_display = [' ' if i < progress\n",
    "                           else '-'\n",
    "                           for i in range(mem_win_length)]\n",
    "    return current_seg_display\n",
    "\n",
    "\n",
    "memory_game = MiniGame(win_length=mem_win_length)\n",
    "memory_game.setup_routine = memory_setup\n",
    "memory_game.correct_answer_action = memory_correct_answer_action\n",
    "memory_game.input_as_linear_int = False\n",
    "\n",
    "seg_game = SevenSegButtonGame(stb=2,\n",
    "                              clk=3,\n",
    "                              dio=4,\n",
    "                              test_mode=True)\n",
    "seg_game.register_game('memory', memory_game)\n",
    "seg_game.setup()"
   ]
  },
  {
   "cell_type": "code",
   "execution_count": 4,
   "id": "62dbdb97-e611-4749-acc7-c7b8dd20f1f5",
   "metadata": {
    "tags": []
   },
   "outputs": [
    {
     "data": {
      "text/plain": [
       "{'memory': <seg_game_typehinted.MiniGame at 0x10ad2a3d0>}"
      ]
     },
     "execution_count": 4,
     "metadata": {},
     "output_type": "execute_result"
    }
   ],
   "source": [
    "seg_game._game_register"
   ]
  },
  {
   "cell_type": "code",
   "execution_count": 5,
   "id": "a7f4fa09-5f10-453f-91db-b12d61cddd60",
   "metadata": {
    "tags": []
   },
   "outputs": [
    {
     "name": "stdout",
     "output_type": "stream",
     "text": [
      "<clear dislpay>\n",
      "Performing <ROLL animation>\n",
      "<clear dislpay>\n",
      "LEDs: [* O O O O O O O]\n"
     ]
    }
   ],
   "source": [
    "seg_game.show_selected_game()"
   ]
  },
  {
   "cell_type": "code",
   "execution_count": 6,
   "id": "1f166f5d-a1f4-4127-8afe-206ad22fcd37",
   "metadata": {
    "tags": []
   },
   "outputs": [
    {
     "data": {
      "text/plain": [
       "[4, 32, 2, 4, 8]"
      ]
     },
     "execution_count": 6,
     "metadata": {},
     "output_type": "execute_result"
    }
   ],
   "source": [
    "# Check memory game answers (all power of 2)\n",
    "memory_game.correct_answer_conditions"
   ]
  },
  {
   "cell_type": "code",
   "execution_count": 7,
   "id": "7ec9dfd0-2387-427b-aaec-26802d9a1239",
   "metadata": {},
   "outputs": [
    {
     "data": {
      "text/plain": [
       "['-', '-', '-', '-', '-']"
      ]
     },
     "execution_count": 7,
     "metadata": {},
     "output_type": "execute_result"
    }
   ],
   "source": [
    "# Check the start display\n",
    "memory_game.game_seg_display"
   ]
  },
  {
   "cell_type": "code",
   "execution_count": 8,
   "id": "ae86d3b2-4a5a-4b35-bba1-83b66b94f9d0",
   "metadata": {
    "tags": []
   },
   "outputs": [
    {
     "name": "stdout",
     "output_type": "stream",
     "text": [
      " \u001b[1m\u001b[31m_\u001b[0m   \u001b[97m_\u001b[0m   \u001b[97m_\u001b[0m   \u001b[97m_\u001b[0m   \u001b[97m_\u001b[0m  \n",
      "\u001b[1m\u001b[31m|\u001b[0m\u001b[1m\u001b[31m_\u001b[0m\u001b[97m|\u001b[0m \u001b[97m|\u001b[0m\u001b[1m\u001b[31m_\u001b[0m\u001b[97m|\u001b[0m \u001b[97m|\u001b[0m\u001b[1m\u001b[31m_\u001b[0m\u001b[97m|\u001b[0m \u001b[97m|\u001b[0m\u001b[1m\u001b[31m_\u001b[0m\u001b[97m|\u001b[0m \u001b[97m|\u001b[0m\u001b[1m\u001b[31m_\u001b[0m\u001b[97m|\u001b[0m \n",
      "\u001b[1m\u001b[31m|\u001b[0m\u001b[1m\u001b[31m_\u001b[0m\u001b[97m|\u001b[0m\u001b[97m.\u001b[0m\u001b[1m\u001b[31m|\u001b[0m\u001b[97m_\u001b[0m\u001b[97m|\u001b[0m\u001b[97m.\u001b[0m\u001b[1m\u001b[31m|\u001b[0m\u001b[97m_\u001b[0m\u001b[97m|\u001b[0m\u001b[97m.\u001b[0m\u001b[1m\u001b[31m|\u001b[0m\u001b[1m\u001b[31m_\u001b[0m\u001b[1m\u001b[31m|\u001b[0m\u001b[97m.\u001b[0m\u001b[1m\u001b[31m|\u001b[0m\u001b[97m_\u001b[0m\u001b[97m|\u001b[0m\u001b[97m.\u001b[0m\n",
      " \u001b[97m_\u001b[0m   \u001b[97m_\u001b[0m   \u001b[97m_\u001b[0m   \u001b[97m_\u001b[0m   \u001b[97m_\u001b[0m  \n",
      "\u001b[97m|\u001b[0m\u001b[1m\u001b[31m_\u001b[0m\u001b[97m|\u001b[0m \u001b[97m|\u001b[0m\u001b[1m\u001b[31m_\u001b[0m\u001b[97m|\u001b[0m \u001b[97m|\u001b[0m\u001b[1m\u001b[31m_\u001b[0m\u001b[97m|\u001b[0m \u001b[97m|\u001b[0m\u001b[1m\u001b[31m_\u001b[0m\u001b[97m|\u001b[0m \u001b[97m|\u001b[0m\u001b[1m\u001b[31m_\u001b[0m\u001b[97m|\u001b[0m \n",
      "\u001b[97m|\u001b[0m\u001b[97m_\u001b[0m\u001b[97m|\u001b[0m\u001b[97m.\u001b[0m\u001b[97m|\u001b[0m\u001b[97m_\u001b[0m\u001b[97m|\u001b[0m\u001b[97m.\u001b[0m\u001b[97m|\u001b[0m\u001b[97m_\u001b[0m\u001b[97m|\u001b[0m\u001b[97m.\u001b[0m\u001b[97m|\u001b[0m\u001b[97m_\u001b[0m\u001b[97m|\u001b[0m\u001b[97m.\u001b[0m\u001b[97m|\u001b[0m\u001b[97m_\u001b[0m\u001b[97m|\u001b[0m\u001b[97m.\u001b[0m\n",
      "LEDs: [O O O O O O O O]\n"
     ]
    }
   ],
   "source": [
    "# Check incorrect resposne\n",
    "memory_game.play(5)"
   ]
  },
  {
   "cell_type": "code",
   "execution_count": 9,
   "id": "2488c602-c731-422e-8e14-69ec05245a32",
   "metadata": {
    "tags": []
   },
   "outputs": [
    {
     "name": "stdout",
     "output_type": "stream",
     "text": [
      "1\n",
      " \u001b[97m_\u001b[0m   \u001b[97m_\u001b[0m   \u001b[97m_\u001b[0m   \u001b[97m_\u001b[0m   \u001b[97m_\u001b[0m  \n",
      "\u001b[97m|\u001b[0m\u001b[97m_\u001b[0m\u001b[97m|\u001b[0m \u001b[97m|\u001b[0m\u001b[1m\u001b[31m_\u001b[0m\u001b[97m|\u001b[0m \u001b[97m|\u001b[0m\u001b[1m\u001b[31m_\u001b[0m\u001b[97m|\u001b[0m \u001b[97m|\u001b[0m\u001b[1m\u001b[31m_\u001b[0m\u001b[97m|\u001b[0m \u001b[97m|\u001b[0m\u001b[1m\u001b[31m_\u001b[0m\u001b[97m|\u001b[0m \n",
      "\u001b[97m|\u001b[0m\u001b[97m_\u001b[0m\u001b[97m|\u001b[0m\u001b[97m.\u001b[0m\u001b[97m|\u001b[0m\u001b[97m_\u001b[0m\u001b[97m|\u001b[0m\u001b[97m.\u001b[0m\u001b[97m|\u001b[0m\u001b[97m_\u001b[0m\u001b[97m|\u001b[0m\u001b[97m.\u001b[0m\u001b[97m|\u001b[0m\u001b[97m_\u001b[0m\u001b[97m|\u001b[0m\u001b[97m.\u001b[0m\u001b[97m|\u001b[0m\u001b[97m_\u001b[0m\u001b[97m|\u001b[0m\u001b[97m.\u001b[0m\n",
      "LEDs: [O O O O O O O O]\n",
      "2\n",
      " \u001b[97m_\u001b[0m   \u001b[97m_\u001b[0m   \u001b[97m_\u001b[0m   \u001b[97m_\u001b[0m   \u001b[97m_\u001b[0m  \n",
      "\u001b[97m|\u001b[0m\u001b[97m_\u001b[0m\u001b[97m|\u001b[0m \u001b[97m|\u001b[0m\u001b[97m_\u001b[0m\u001b[97m|\u001b[0m \u001b[97m|\u001b[0m\u001b[1m\u001b[31m_\u001b[0m\u001b[97m|\u001b[0m \u001b[97m|\u001b[0m\u001b[1m\u001b[31m_\u001b[0m\u001b[97m|\u001b[0m \u001b[97m|\u001b[0m\u001b[1m\u001b[31m_\u001b[0m\u001b[97m|\u001b[0m \n",
      "\u001b[97m|\u001b[0m\u001b[97m_\u001b[0m\u001b[97m|\u001b[0m\u001b[97m.\u001b[0m\u001b[97m|\u001b[0m\u001b[97m_\u001b[0m\u001b[97m|\u001b[0m\u001b[97m.\u001b[0m\u001b[97m|\u001b[0m\u001b[97m_\u001b[0m\u001b[97m|\u001b[0m\u001b[97m.\u001b[0m\u001b[97m|\u001b[0m\u001b[97m_\u001b[0m\u001b[97m|\u001b[0m\u001b[97m.\u001b[0m\u001b[97m|\u001b[0m\u001b[97m_\u001b[0m\u001b[97m|\u001b[0m\u001b[97m.\u001b[0m\n",
      "LEDs: [O O O O O O O O]\n",
      "3\n",
      " \u001b[97m_\u001b[0m   \u001b[97m_\u001b[0m   \u001b[97m_\u001b[0m   \u001b[97m_\u001b[0m   \u001b[97m_\u001b[0m  \n",
      "\u001b[97m|\u001b[0m\u001b[97m_\u001b[0m\u001b[97m|\u001b[0m \u001b[97m|\u001b[0m\u001b[97m_\u001b[0m\u001b[97m|\u001b[0m \u001b[97m|\u001b[0m\u001b[97m_\u001b[0m\u001b[97m|\u001b[0m \u001b[97m|\u001b[0m\u001b[1m\u001b[31m_\u001b[0m\u001b[97m|\u001b[0m \u001b[97m|\u001b[0m\u001b[1m\u001b[31m_\u001b[0m\u001b[97m|\u001b[0m \n",
      "\u001b[97m|\u001b[0m\u001b[97m_\u001b[0m\u001b[97m|\u001b[0m\u001b[97m.\u001b[0m\u001b[97m|\u001b[0m\u001b[97m_\u001b[0m\u001b[97m|\u001b[0m\u001b[97m.\u001b[0m\u001b[97m|\u001b[0m\u001b[97m_\u001b[0m\u001b[97m|\u001b[0m\u001b[97m.\u001b[0m\u001b[97m|\u001b[0m\u001b[97m_\u001b[0m\u001b[97m|\u001b[0m\u001b[97m.\u001b[0m\u001b[97m|\u001b[0m\u001b[97m_\u001b[0m\u001b[97m|\u001b[0m\u001b[97m.\u001b[0m\n",
      "LEDs: [O O O O O O O O]\n",
      "4\n",
      " \u001b[97m_\u001b[0m   \u001b[97m_\u001b[0m   \u001b[97m_\u001b[0m   \u001b[97m_\u001b[0m   \u001b[97m_\u001b[0m  \n",
      "\u001b[97m|\u001b[0m\u001b[97m_\u001b[0m\u001b[97m|\u001b[0m \u001b[97m|\u001b[0m\u001b[97m_\u001b[0m\u001b[97m|\u001b[0m \u001b[97m|\u001b[0m\u001b[97m_\u001b[0m\u001b[97m|\u001b[0m \u001b[97m|\u001b[0m\u001b[97m_\u001b[0m\u001b[97m|\u001b[0m \u001b[97m|\u001b[0m\u001b[1m\u001b[31m_\u001b[0m\u001b[97m|\u001b[0m \n",
      "\u001b[97m|\u001b[0m\u001b[97m_\u001b[0m\u001b[97m|\u001b[0m\u001b[97m.\u001b[0m\u001b[97m|\u001b[0m\u001b[97m_\u001b[0m\u001b[97m|\u001b[0m\u001b[97m.\u001b[0m\u001b[97m|\u001b[0m\u001b[97m_\u001b[0m\u001b[97m|\u001b[0m\u001b[97m.\u001b[0m\u001b[97m|\u001b[0m\u001b[97m_\u001b[0m\u001b[97m|\u001b[0m\u001b[97m.\u001b[0m\u001b[97m|\u001b[0m\u001b[97m_\u001b[0m\u001b[97m|\u001b[0m\u001b[97m.\u001b[0m\n",
      "LEDs: [O O O O O O O O]\n",
      "5\n",
      " \u001b[97m_\u001b[0m   \u001b[97m_\u001b[0m   \u001b[1m\u001b[31m_\u001b[0m   \u001b[1m\u001b[31m_\u001b[0m   \u001b[1m\u001b[31m_\u001b[0m   \u001b[1m\u001b[31m_\u001b[0m   \u001b[97m_\u001b[0m   \u001b[97m_\u001b[0m  \n",
      "\u001b[97m|\u001b[0m\u001b[1m\u001b[31m_\u001b[0m\u001b[97m|\u001b[0m \u001b[97m|\u001b[0m\u001b[1m\u001b[31m_\u001b[0m\u001b[97m|\u001b[0m \u001b[1m\u001b[31m|\u001b[0m\u001b[1m\u001b[31m_\u001b[0m\u001b[97m|\u001b[0m \u001b[1m\u001b[31m|\u001b[0m\u001b[1m\u001b[31m_\u001b[0m\u001b[1m\u001b[31m|\u001b[0m \u001b[1m\u001b[31m|\u001b[0m\u001b[1m\u001b[31m_\u001b[0m\u001b[97m|\u001b[0m \u001b[1m\u001b[31m|\u001b[0m\u001b[1m\u001b[31m_\u001b[0m\u001b[97m|\u001b[0m \u001b[97m|\u001b[0m\u001b[1m\u001b[31m_\u001b[0m\u001b[97m|\u001b[0m \u001b[97m|\u001b[0m\u001b[1m\u001b[31m_\u001b[0m\u001b[97m|\u001b[0m \n",
      "\u001b[97m|\u001b[0m\u001b[97m_\u001b[0m\u001b[97m|\u001b[0m\u001b[97m.\u001b[0m\u001b[97m|\u001b[0m\u001b[97m_\u001b[0m\u001b[97m|\u001b[0m\u001b[97m.\u001b[0m\u001b[97m|\u001b[0m\u001b[1m\u001b[31m_\u001b[0m\u001b[1m\u001b[31m|\u001b[0m\u001b[97m.\u001b[0m\u001b[1m\u001b[31m|\u001b[0m\u001b[97m_\u001b[0m\u001b[1m\u001b[31m|\u001b[0m\u001b[97m.\u001b[0m\u001b[1m\u001b[31m|\u001b[0m\u001b[97m_\u001b[0m\u001b[97m|\u001b[0m\u001b[97m.\u001b[0m\u001b[1m\u001b[31m|\u001b[0m\u001b[1m\u001b[31m_\u001b[0m\u001b[97m|\u001b[0m\u001b[97m.\u001b[0m\u001b[97m|\u001b[0m\u001b[97m_\u001b[0m\u001b[97m|\u001b[0m\u001b[97m.\u001b[0m\u001b[97m|\u001b[0m\u001b[97m_\u001b[0m\u001b[97m|\u001b[0m\u001b[97m.\u001b[0m\n"
     ]
    }
   ],
   "source": [
    "# Check all answers correct wins game\n",
    "for answer in memory_game.correct_answer_conditions:\n",
    "    memory_game.play(answer)"
   ]
  },
  {
   "cell_type": "code",
   "execution_count": 10,
   "id": "a9d4cf09-ed12-447c-9981-5bc933c8aea0",
   "metadata": {
    "tags": []
   },
   "outputs": [
    {
     "name": "stdout",
     "output_type": "stream",
     "text": [
      " \u001b[97m_\u001b[0m   \u001b[97m_\u001b[0m   \u001b[1m\u001b[31m_\u001b[0m   \u001b[1m\u001b[31m_\u001b[0m   \u001b[1m\u001b[31m_\u001b[0m   \u001b[1m\u001b[31m_\u001b[0m   \u001b[97m_\u001b[0m   \u001b[97m_\u001b[0m  \n",
      "\u001b[97m|\u001b[0m\u001b[1m\u001b[31m_\u001b[0m\u001b[97m|\u001b[0m \u001b[97m|\u001b[0m\u001b[1m\u001b[31m_\u001b[0m\u001b[97m|\u001b[0m \u001b[1m\u001b[31m|\u001b[0m\u001b[1m\u001b[31m_\u001b[0m\u001b[97m|\u001b[0m \u001b[1m\u001b[31m|\u001b[0m\u001b[1m\u001b[31m_\u001b[0m\u001b[1m\u001b[31m|\u001b[0m \u001b[1m\u001b[31m|\u001b[0m\u001b[1m\u001b[31m_\u001b[0m\u001b[97m|\u001b[0m \u001b[1m\u001b[31m|\u001b[0m\u001b[1m\u001b[31m_\u001b[0m\u001b[97m|\u001b[0m \u001b[97m|\u001b[0m\u001b[1m\u001b[31m_\u001b[0m\u001b[97m|\u001b[0m \u001b[97m|\u001b[0m\u001b[1m\u001b[31m_\u001b[0m\u001b[97m|\u001b[0m \n",
      "\u001b[97m|\u001b[0m\u001b[97m_\u001b[0m\u001b[97m|\u001b[0m\u001b[97m.\u001b[0m\u001b[97m|\u001b[0m\u001b[97m_\u001b[0m\u001b[97m|\u001b[0m\u001b[97m.\u001b[0m\u001b[97m|\u001b[0m\u001b[1m\u001b[31m_\u001b[0m\u001b[1m\u001b[31m|\u001b[0m\u001b[97m.\u001b[0m\u001b[1m\u001b[31m|\u001b[0m\u001b[97m_\u001b[0m\u001b[1m\u001b[31m|\u001b[0m\u001b[97m.\u001b[0m\u001b[1m\u001b[31m|\u001b[0m\u001b[97m_\u001b[0m\u001b[97m|\u001b[0m\u001b[97m.\u001b[0m\u001b[1m\u001b[31m|\u001b[0m\u001b[1m\u001b[31m_\u001b[0m\u001b[97m|\u001b[0m\u001b[97m.\u001b[0m\u001b[97m|\u001b[0m\u001b[97m_\u001b[0m\u001b[97m|\u001b[0m\u001b[97m.\u001b[0m\u001b[97m|\u001b[0m\u001b[97m_\u001b[0m\u001b[97m|\u001b[0m\u001b[97m.\u001b[0m\n"
     ]
    }
   ],
   "source": [
    "# Check the game stays finished\n",
    "memory_game.play(5)"
   ]
  },
  {
   "cell_type": "code",
   "execution_count": null,
   "id": "12a1a3b8-2119-4815-a6a2-8b61045fd297",
   "metadata": {},
   "outputs": [],
   "source": []
  }
 ],
 "metadata": {
  "kernelspec": {
   "display_name": "Python 3 (ipykernel)",
   "language": "python",
   "name": "python3"
  },
  "language_info": {
   "codemirror_mode": {
    "name": "ipython",
    "version": 3
   },
   "file_extension": ".py",
   "mimetype": "text/x-python",
   "name": "python",
   "nbconvert_exporter": "python",
   "pygments_lexer": "ipython3",
   "version": "3.11.5"
  }
 },
 "nbformat": 4,
 "nbformat_minor": 5
}
