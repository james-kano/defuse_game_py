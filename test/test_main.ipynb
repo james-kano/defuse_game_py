{
 "cells": [
  {
   "cell_type": "code",
   "execution_count": 1,
   "id": "efda2bad-1ed8-4ccd-8ed6-e5dad75a9670",
   "metadata": {
    "tags": []
   },
   "outputs": [],
   "source": [
    "from random import randint\n",
    "\n",
    "import os\n",
    "os.chdir('..')"
   ]
  },
  {
   "cell_type": "code",
   "execution_count": 2,
   "id": "85485be2-95d0-426d-86e4-25bdc8cde7be",
   "metadata": {
    "tags": []
   },
   "outputs": [],
   "source": [
    "class tm1638:\n",
    "    def __init__(self):\n",
    "        self.leds = [False]*8\n",
    "        self.segments = ['']*8\n",
    "        self.num_segments = 8"
   ]
  },
  {
   "cell_type": "code",
   "execution_count": 3,
   "id": "f75504c3-342f-4f52-96d6-eb5bcf9d9fc2",
   "metadata": {
    "tags": []
   },
   "outputs": [],
   "source": [
    "tm = tm1638()"
   ]
  },
  {
   "cell_type": "code",
   "execution_count": 4,
   "id": "d43237d6-4577-4570-a8b5-7e6d0b7722ee",
   "metadata": {
    "tags": []
   },
   "outputs": [],
   "source": [
    "from seg_game_typehinted import SevenSegButtonGame, MiniGame"
   ]
  },
  {
   "cell_type": "markdown",
   "id": "af5c8f63-5184-4122-a585-e41944d5f0c4",
   "metadata": {
    "tags": []
   },
   "source": [
    "-----"
   ]
  },
  {
   "cell_type": "code",
   "execution_count": 6,
   "id": "e4465a62-3ab2-4b0d-af84-6ee124493730",
   "metadata": {
    "tags": []
   },
   "outputs": [],
   "source": [
    "from main import memory_setup, memory_correct_answer_action"
   ]
  },
  {
   "cell_type": "code",
   "execution_count": 7,
   "id": "029f95e1-d830-4e13-a83c-c9f5dfe12499",
   "metadata": {
    "tags": []
   },
   "outputs": [],
   "source": [
    "memory_game = MiniGame(win_length=5, test_mode=True)\n",
    "memory_game.setup_routine = memory_setup\n",
    "memory_game.correct_answer_action = memory_correct_answer_action\n",
    "memory_game.input_as_linear_int = False"
   ]
  },
  {
   "cell_type": "code",
   "execution_count": 8,
   "id": "311c9fd1-b19d-4180-b457-e25cd5a96799",
   "metadata": {
    "tags": []
   },
   "outputs": [],
   "source": [
    "# memory_game.tm1638 = tm"
   ]
  },
  {
   "cell_type": "markdown",
   "id": "77faace0-cb10-48db-b04b-c7679d3e0eea",
   "metadata": {},
   "source": [
    "----"
   ]
  },
  {
   "cell_type": "code",
   "execution_count": 10,
   "id": "25e7e39d-3d56-476b-bbe9-9f33644a5713",
   "metadata": {
    "tags": []
   },
   "outputs": [],
   "source": [
    "from main import(\n",
    "    math_setup,\n",
    "    math_map_input,\n",
    "    math_incorrect_answer_action,\n",
    "    math_answer_num,\n",
    "    math_answer_num_str,\n",
    "    math_win_length\n",
    ")"
   ]
  },
  {
   "cell_type": "code",
   "execution_count": 11,
   "id": "21cbec3b-6558-4d51-b291-584f3452b4cf",
   "metadata": {
    "tags": []
   },
   "outputs": [],
   "source": [
    "math_game = MiniGame(win_length=math_win_length,\n",
    "                     setup_routine=math_setup,\n",
    "                     map_input=math_map_input,\n",
    "                     incorrect_answer_action=math_incorrect_answer_action,\n",
    "                     show_button_feedback=False,\n",
    "                     input_as_linear_int=True)"
   ]
  },
  {
   "cell_type": "code",
   "execution_count": 12,
   "id": "260b73ed-bd25-4142-8f08-8ced69ee5e72",
   "metadata": {
    "tags": []
   },
   "outputs": [
    {
     "data": {
      "text/plain": [
       "'60'"
      ]
     },
     "execution_count": 12,
     "metadata": {},
     "output_type": "execute_result"
    }
   ],
   "source": [
    "math_answer_num_str"
   ]
  },
  {
   "cell_type": "markdown",
   "id": "704dd3b8-8179-4a3f-815e-abb0aa434f56",
   "metadata": {},
   "source": [
    "-------"
   ]
  },
  {
   "cell_type": "code",
   "execution_count": 14,
   "id": "6ad1ebc6-147c-4110-a001-331419ac3c31",
   "metadata": {
    "tags": []
   },
   "outputs": [],
   "source": [
    "from main import SpatialGame"
   ]
  },
  {
   "cell_type": "markdown",
   "id": "07e09412-6823-45d7-896e-90948e5479db",
   "metadata": {},
   "source": [
    "-----"
   ]
  },
  {
   "cell_type": "code",
   "execution_count": 16,
   "id": "ec852750-1ce3-430c-88c6-cbca0f7da817",
   "metadata": {
    "tags": []
   },
   "outputs": [
    {
     "name": "stdout",
     "output_type": "stream",
     "text": [
      "Performing <WAVE animation>\n",
      "[7, 4, 6, 5]\n"
     ]
    }
   ],
   "source": [
    "seg_game = SevenSegButtonGame(stb=26,\n",
    "                              clk=13,\n",
    "                              dio=19,\n",
    "                              test_mode=True)\n",
    "\n",
    "\n",
    "seg_game.register_game('memory', memory_game)\n",
    "seg_game.register_game('math', math_game)\n",
    "\n",
    "spatial_game = SpatialGame(tm1638 = seg_game.tm)\n",
    "seg_game.register_game('space', spatial_game)\n",
    "\n",
    "seg_game.setup()\n",
    "\n",
    "if seg_game.selected_game._alive:\n",
    "    if seg_game.in_standby:\n",
    "        seg_game.standby_start_loop\n",
    "    else:\n",
    "        seg_game.game_loop()"
   ]
  },
  {
   "cell_type": "code",
   "execution_count": 17,
   "id": "8b05c98f-f53b-4f31-979c-60bf910cff9a",
   "metadata": {
    "tags": []
   },
   "outputs": [
    {
     "data": {
      "text/plain": [
       "{'memory': <seg_game_typehinted.MiniGame at 0x10f8c8e90>,\n",
       " 'math': <seg_game_typehinted.MiniGame at 0x116d1af90>,\n",
       " 'space': <main.SpatialGame at 0x111aa3690>}"
      ]
     },
     "execution_count": 17,
     "metadata": {},
     "output_type": "execute_result"
    }
   ],
   "source": [
    "seg_game._game_register"
   ]
  },
  {
   "cell_type": "code",
   "execution_count": 18,
   "id": "64a7c8d4-546c-4d76-aa44-895c122fd456",
   "metadata": {
    "tags": []
   },
   "outputs": [
    {
     "data": {
      "text/plain": [
       "'space'"
      ]
     },
     "execution_count": 18,
     "metadata": {},
     "output_type": "execute_result"
    }
   ],
   "source": [
    "games = list(seg_game._game_register.keys())\n",
    "games[seg_game._game_select]"
   ]
  },
  {
   "cell_type": "code",
   "execution_count": 19,
   "id": "4e7f5ce9-01b5-4967-a216-0cf42f869861",
   "metadata": {
    "tags": []
   },
   "outputs": [
    {
     "data": {
      "text/plain": [
       "<main.SpatialGame at 0x111aa3690>"
      ]
     },
     "execution_count": 19,
     "metadata": {},
     "output_type": "execute_result"
    }
   ],
   "source": [
    "seg_game.selected_game"
   ]
  },
  {
   "cell_type": "code",
   "execution_count": 20,
   "id": "d5264322-f82e-4a1e-a06c-6d616235292f",
   "metadata": {
    "tags": []
   },
   "outputs": [
    {
     "data": {
      "text/plain": [
       "4"
      ]
     },
     "execution_count": 20,
     "metadata": {},
     "output_type": "execute_result"
    }
   ],
   "source": [
    "seg_game.selected_game._win_length"
   ]
  },
  {
   "cell_type": "code",
   "execution_count": 21,
   "id": "7578e29f-a8da-4ae8-bae0-e13230480110",
   "metadata": {
    "tags": []
   },
   "outputs": [
    {
     "data": {
      "text/plain": [
       "[7, 4, 6, 5]"
      ]
     },
     "execution_count": 21,
     "metadata": {},
     "output_type": "execute_result"
    }
   ],
   "source": [
    "seg_game.selected_game.correct_answer_conditions"
   ]
  }
 ],
 "metadata": {
  "kernelspec": {
   "display_name": "Python 3 (ipykernel)",
   "language": "python",
   "name": "python3"
  },
  "language_info": {
   "codemirror_mode": {
    "name": "ipython",
    "version": 3
   },
   "file_extension": ".py",
   "mimetype": "text/x-python",
   "name": "python",
   "nbconvert_exporter": "python",
   "pygments_lexer": "ipython3",
   "version": "3.11.5"
  }
 },
 "nbformat": 4,
 "nbformat_minor": 5
}
