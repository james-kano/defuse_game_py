{
 "cells": [
  {
   "cell_type": "code",
   "execution_count": 1,
   "id": "7704c09c-5ae3-41dc-8c1d-29d6946d145e",
   "metadata": {
    "tags": []
   },
   "outputs": [],
   "source": [
    "import os\n",
    "os.chdir('..')\n",
    "\n",
    "from seg_game_typehinted import SevenSegButtonGame, MiniGame\n",
    "from rpi_tm1638_animations import TM1638Animated as Tm"
   ]
  },
  {
   "cell_type": "code",
   "execution_count": 2,
   "id": "f2e98ac9-fde1-4e22-86c5-37ec204ecb68",
   "metadata": {
    "tags": []
   },
   "outputs": [],
   "source": [
    "from random import randint, shuffle\n",
    "from typing import Any, Dict, List"
   ]
  },
  {
   "cell_type": "code",
   "execution_count": 3,
   "id": "0822964e-d8a7-4c4f-abe5-5fb18b71cba7",
   "metadata": {
    "tags": []
   },
   "outputs": [],
   "source": [
    "space_win_length = 4\n",
    "fragment_nums = []\n",
    "\n",
    "\n",
    "def space_setup(tm1638: Tm) -> Dict[str, Any]:\n",
    "    \"\"\"\n",
    "    Setup answers and starting display for space game\n",
    "    \"\"\"\n",
    "    # set the win length to be half of the number of segments\n",
    "    space_win_length = int(tm1638.num_segments / 2)\n",
    "    \n",
    "    # generate the fragments\n",
    "    fragment_nums = [randint(1, 127) for i in range(space_win_length)]\n",
    "    counterpart_fragments = [127 - frag for frag in fragment_nums]\n",
    "    \n",
    "    # randomise the fragment order\n",
    "    counterpart_shuffle = list(range(4))\n",
    "    shuffle(counterpart_shuffle)\n",
    "\n",
    "    for i in range(len(counterpart_shuffle)):\n",
    "        place = counterpart_shuffle.index(i)\n",
    "        fragment_nums.append(counterpart_fragments[place])\n",
    "    \n",
    "    globals()['fragment_nums'] = fragment_nums\n",
    "\n",
    "    \n",
    "    correct_answer_sequence = [i+4 for i in counterpart_shuffle]\n",
    "    \n",
    "    \n",
    "    return_dict = {\n",
    "        'correct_answer_conditions': correct_answer_sequence,\n",
    "        'game_seg_display': fragment_nums,\n",
    "        'game_LED_display': 1 << 8\n",
    "    }\n",
    "        \n",
    "    return return_dict\n",
    "\n",
    "\n",
    "def space_correct_answer_action(tm1638: Tm,\n",
    "                                progress: int) -> List[int]:\n",
    "    \"\"\"\n",
    "    Update display after correct answer given\n",
    "    \"\"\"\n",
    "    fragment_nums[progress - 1] = 127\n",
    "    globals()['fragment_nums'] = fragment_nums\n",
    "    \n",
    "    tm1638.LEDs(1 << 8 - progress)\n",
    "    \n",
    "    \n",
    "    return fragment_nums\n",
    "\n",
    "\n",
    "space_game = MiniGame(win_length=space_win_length,\n",
    "                      setup_routine=space_setup,\n",
    "                      correct_answer_action=space_correct_answer_action,\n",
    "                      input_as_linear_int=True)\n",
    "\n",
    "seg_game = SevenSegButtonGame(stb=2,\n",
    "                              clk=3,\n",
    "                              dio=4,\n",
    "                              test_mode=True)\n",
    "seg_game.register_game('space', space_game)\n",
    "seg_game.setup()"
   ]
  },
  {
   "cell_type": "code",
   "execution_count": 4,
   "id": "1f166f5d-a1f4-4127-8afe-206ad22fcd37",
   "metadata": {
    "tags": []
   },
   "outputs": [
    {
     "data": {
      "text/plain": [
       "[7, 5, 4, 6]"
      ]
     },
     "execution_count": 4,
     "metadata": {},
     "output_type": "execute_result"
    }
   ],
   "source": [
    "# Check math game answers (all power of 2)\n",
    "space_game.correct_answer_conditions"
   ]
  },
  {
   "cell_type": "code",
   "execution_count": 5,
   "id": "7ec9dfd0-2387-427b-aaec-26802d9a1239",
   "metadata": {},
   "outputs": [
    {
     "data": {
      "text/plain": [
       "[81, 80, 115, 18, 12, 47, 109, 46]"
      ]
     },
     "execution_count": 5,
     "metadata": {},
     "output_type": "execute_result"
    }
   ],
   "source": [
    "# Check the start display\n",
    "space_game.game_seg_display"
   ]
  },
  {
   "cell_type": "code",
   "execution_count": 6,
   "id": "7e096353-33bf-4ecb-8fcf-757a458ad4de",
   "metadata": {
    "tags": []
   },
   "outputs": [],
   "source": [
    "def test_play(input):\n",
    "    print(f'playing: {input}')\n",
    "    space_game.play(1 << input)"
   ]
  },
  {
   "cell_type": "code",
   "execution_count": 7,
   "id": "ae86d3b2-4a5a-4b35-bba1-83b66b94f9d0",
   "metadata": {
    "tags": []
   },
   "outputs": [
    {
     "name": "stdout",
     "output_type": "stream",
     "text": [
      "playing: 0\n",
      "1 converted to: 0\n",
      " \u001b[1m\u001b[31m_\u001b[0m   \u001b[97m_\u001b[0m   \u001b[97m_\u001b[0m   \u001b[97m_\u001b[0m   \u001b[97m_\u001b[0m   \u001b[97m_\u001b[0m   \u001b[97m_\u001b[0m   \u001b[97m_\u001b[0m  \n",
      "\u001b[1m\u001b[31m|\u001b[0m\u001b[1m\u001b[31m_\u001b[0m\u001b[97m|\u001b[0m \u001b[97m|\u001b[0m\u001b[1m\u001b[31m_\u001b[0m\u001b[97m|\u001b[0m \u001b[97m|\u001b[0m\u001b[1m\u001b[31m_\u001b[0m\u001b[97m|\u001b[0m \u001b[97m|\u001b[0m\u001b[1m\u001b[31m_\u001b[0m\u001b[97m|\u001b[0m \u001b[97m|\u001b[0m\u001b[1m\u001b[31m_\u001b[0m\u001b[97m|\u001b[0m \u001b[97m|\u001b[0m\u001b[97m_\u001b[0m\u001b[97m|\u001b[0m \u001b[97m|\u001b[0m\u001b[97m_\u001b[0m\u001b[97m|\u001b[0m \u001b[97m|\u001b[0m\u001b[97m_\u001b[0m\u001b[97m|\u001b[0m \n",
      "\u001b[1m\u001b[31m|\u001b[0m\u001b[1m\u001b[31m_\u001b[0m\u001b[97m|\u001b[0m\u001b[97m.\u001b[0m\u001b[1m\u001b[31m|\u001b[0m\u001b[97m_\u001b[0m\u001b[97m|\u001b[0m\u001b[97m.\u001b[0m\u001b[1m\u001b[31m|\u001b[0m\u001b[97m_\u001b[0m\u001b[97m|\u001b[0m\u001b[97m.\u001b[0m\u001b[1m\u001b[31m|\u001b[0m\u001b[1m\u001b[31m_\u001b[0m\u001b[1m\u001b[31m|\u001b[0m\u001b[97m.\u001b[0m\u001b[1m\u001b[31m|\u001b[0m\u001b[97m_\u001b[0m\u001b[97m|\u001b[0m\u001b[97m.\u001b[0m\u001b[97m|\u001b[0m\u001b[97m_\u001b[0m\u001b[97m|\u001b[0m\u001b[97m.\u001b[0m\u001b[97m|\u001b[0m\u001b[97m_\u001b[0m\u001b[97m|\u001b[0m\u001b[97m.\u001b[0m\u001b[97m|\u001b[0m\u001b[97m_\u001b[0m\u001b[97m|\u001b[0m\u001b[97m.\u001b[0m\n",
      "\u001b[1m\u001b[31m *  \u001b[0m\u001b[97m •  \u001b[0m\u001b[97m •  \u001b[0m\u001b[97m •  \u001b[0m\u001b[97m •  \u001b[0m\u001b[97m •  \u001b[0m\u001b[97m •  \u001b[0m\u001b[97m •  \u001b[0m\u001b[97m •  \u001b[0m\n",
      " \u001b[1m\u001b[31m_\u001b[0m   \u001b[97m_\u001b[0m   \u001b[1m\u001b[31m_\u001b[0m   \u001b[97m_\u001b[0m   \u001b[97m_\u001b[0m   \u001b[1m\u001b[31m_\u001b[0m   \u001b[1m\u001b[31m_\u001b[0m   \u001b[97m_\u001b[0m  \n",
      "\u001b[97m|\u001b[0m\u001b[1m\u001b[31m_\u001b[0m\u001b[97m|\u001b[0m \u001b[97m|\u001b[0m\u001b[1m\u001b[31m_\u001b[0m\u001b[97m|\u001b[0m \u001b[1m\u001b[31m|\u001b[0m\u001b[1m\u001b[31m_\u001b[0m\u001b[1m\u001b[31m|\u001b[0m \u001b[97m|\u001b[0m\u001b[97m_\u001b[0m\u001b[1m\u001b[31m|\u001b[0m \u001b[97m|\u001b[0m\u001b[97m_\u001b[0m\u001b[97m|\u001b[0m \u001b[1m\u001b[31m|\u001b[0m\u001b[97m_\u001b[0m\u001b[1m\u001b[31m|\u001b[0m \u001b[1m\u001b[31m|\u001b[0m\u001b[1m\u001b[31m_\u001b[0m\u001b[97m|\u001b[0m \u001b[1m\u001b[31m|\u001b[0m\u001b[97m_\u001b[0m\u001b[1m\u001b[31m|\u001b[0m \n",
      "\u001b[1m\u001b[31m|\u001b[0m\u001b[97m_\u001b[0m\u001b[97m|\u001b[0m\u001b[97m.\u001b[0m\u001b[1m\u001b[31m|\u001b[0m\u001b[97m_\u001b[0m\u001b[97m|\u001b[0m\u001b[97m.\u001b[0m\u001b[1m\u001b[31m|\u001b[0m\u001b[97m_\u001b[0m\u001b[97m|\u001b[0m\u001b[97m.\u001b[0m\u001b[1m\u001b[31m|\u001b[0m\u001b[97m_\u001b[0m\u001b[97m|\u001b[0m\u001b[97m.\u001b[0m\u001b[97m|\u001b[0m\u001b[1m\u001b[31m_\u001b[0m\u001b[1m\u001b[31m|\u001b[0m\u001b[97m.\u001b[0m\u001b[97m|\u001b[0m\u001b[1m\u001b[31m_\u001b[0m\u001b[1m\u001b[31m|\u001b[0m\u001b[97m.\u001b[0m\u001b[97m|\u001b[0m\u001b[1m\u001b[31m_\u001b[0m\u001b[1m\u001b[31m|\u001b[0m\u001b[97m.\u001b[0m\u001b[97m|\u001b[0m\u001b[1m\u001b[31m_\u001b[0m\u001b[1m\u001b[31m|\u001b[0m\u001b[97m.\u001b[0m\n"
     ]
    }
   ],
   "source": [
    "test_play(0)"
   ]
  },
  {
   "cell_type": "code",
   "execution_count": 8,
   "id": "2488c602-c731-422e-8e14-69ec05245a32",
   "metadata": {
    "tags": []
   },
   "outputs": [
    {
     "name": "stdout",
     "output_type": "stream",
     "text": [
      "playing: 7\n",
      "128 converted to: 7\n",
      "\u001b[1m\u001b[31m *  \u001b[0m\u001b[97m •  \u001b[0m\u001b[97m •  \u001b[0m\u001b[97m •  \u001b[0m\u001b[97m •  \u001b[0m\u001b[97m •  \u001b[0m\u001b[97m •  \u001b[0m\u001b[97m •  \u001b[0m\n",
      "\u001b[1m\u001b[31m *  \u001b[0m\u001b[97m •  \u001b[0m\u001b[97m •  \u001b[0m\u001b[97m •  \u001b[0m\u001b[97m •  \u001b[0m\u001b[97m •  \u001b[0m\u001b[97m •  \u001b[0m\u001b[97m •  \u001b[0m\u001b[97m •  \u001b[0m\n",
      " \u001b[1m\u001b[31m_\u001b[0m   \u001b[97m_\u001b[0m   \u001b[1m\u001b[31m_\u001b[0m   \u001b[97m_\u001b[0m   \u001b[97m_\u001b[0m   \u001b[1m\u001b[31m_\u001b[0m   \u001b[1m\u001b[31m_\u001b[0m   \u001b[97m_\u001b[0m  \n",
      "\u001b[1m\u001b[31m|\u001b[0m\u001b[1m\u001b[31m_\u001b[0m\u001b[1m\u001b[31m|\u001b[0m \u001b[97m|\u001b[0m\u001b[1m\u001b[31m_\u001b[0m\u001b[97m|\u001b[0m \u001b[1m\u001b[31m|\u001b[0m\u001b[1m\u001b[31m_\u001b[0m\u001b[1m\u001b[31m|\u001b[0m \u001b[97m|\u001b[0m\u001b[97m_\u001b[0m\u001b[1m\u001b[31m|\u001b[0m \u001b[97m|\u001b[0m\u001b[97m_\u001b[0m\u001b[97m|\u001b[0m \u001b[1m\u001b[31m|\u001b[0m\u001b[97m_\u001b[0m\u001b[1m\u001b[31m|\u001b[0m \u001b[1m\u001b[31m|\u001b[0m\u001b[1m\u001b[31m_\u001b[0m\u001b[97m|\u001b[0m \u001b[1m\u001b[31m|\u001b[0m\u001b[97m_\u001b[0m\u001b[1m\u001b[31m|\u001b[0m \n",
      "\u001b[1m\u001b[31m|\u001b[0m\u001b[1m\u001b[31m_\u001b[0m\u001b[1m\u001b[31m|\u001b[0m\u001b[97m.\u001b[0m\u001b[1m\u001b[31m|\u001b[0m\u001b[97m_\u001b[0m\u001b[97m|\u001b[0m\u001b[97m.\u001b[0m\u001b[1m\u001b[31m|\u001b[0m\u001b[97m_\u001b[0m\u001b[97m|\u001b[0m\u001b[97m.\u001b[0m\u001b[1m\u001b[31m|\u001b[0m\u001b[97m_\u001b[0m\u001b[97m|\u001b[0m\u001b[97m.\u001b[0m\u001b[97m|\u001b[0m\u001b[1m\u001b[31m_\u001b[0m\u001b[1m\u001b[31m|\u001b[0m\u001b[97m.\u001b[0m\u001b[97m|\u001b[0m\u001b[1m\u001b[31m_\u001b[0m\u001b[1m\u001b[31m|\u001b[0m\u001b[97m.\u001b[0m\u001b[97m|\u001b[0m\u001b[1m\u001b[31m_\u001b[0m\u001b[1m\u001b[31m|\u001b[0m\u001b[97m.\u001b[0m\u001b[97m|\u001b[0m\u001b[1m\u001b[31m_\u001b[0m\u001b[1m\u001b[31m|\u001b[0m\u001b[97m.\u001b[0m\n",
      "playing: 5\n",
      "32 converted to: 5\n",
      "\u001b[97m •  \u001b[0m\u001b[1m\u001b[31m *  \u001b[0m\u001b[97m •  \u001b[0m\u001b[97m •  \u001b[0m\u001b[97m •  \u001b[0m\u001b[97m •  \u001b[0m\u001b[97m •  \u001b[0m\u001b[97m •  \u001b[0m\n",
      "\u001b[1m\u001b[31m *  \u001b[0m\u001b[97m •  \u001b[0m\u001b[97m •  \u001b[0m\u001b[97m •  \u001b[0m\u001b[97m •  \u001b[0m\u001b[97m •  \u001b[0m\u001b[97m •  \u001b[0m\u001b[97m •  \u001b[0m\u001b[97m •  \u001b[0m\n",
      " \u001b[1m\u001b[31m_\u001b[0m   \u001b[1m\u001b[31m_\u001b[0m   \u001b[1m\u001b[31m_\u001b[0m   \u001b[97m_\u001b[0m   \u001b[97m_\u001b[0m   \u001b[1m\u001b[31m_\u001b[0m   \u001b[1m\u001b[31m_\u001b[0m   \u001b[97m_\u001b[0m  \n",
      "\u001b[1m\u001b[31m|\u001b[0m\u001b[1m\u001b[31m_\u001b[0m\u001b[1m\u001b[31m|\u001b[0m \u001b[1m\u001b[31m|\u001b[0m\u001b[1m\u001b[31m_\u001b[0m\u001b[1m\u001b[31m|\u001b[0m \u001b[1m\u001b[31m|\u001b[0m\u001b[1m\u001b[31m_\u001b[0m\u001b[1m\u001b[31m|\u001b[0m \u001b[97m|\u001b[0m\u001b[97m_\u001b[0m\u001b[1m\u001b[31m|\u001b[0m \u001b[97m|\u001b[0m\u001b[97m_\u001b[0m\u001b[97m|\u001b[0m \u001b[1m\u001b[31m|\u001b[0m\u001b[97m_\u001b[0m\u001b[1m\u001b[31m|\u001b[0m \u001b[1m\u001b[31m|\u001b[0m\u001b[1m\u001b[31m_\u001b[0m\u001b[97m|\u001b[0m \u001b[1m\u001b[31m|\u001b[0m\u001b[97m_\u001b[0m\u001b[1m\u001b[31m|\u001b[0m \n",
      "\u001b[1m\u001b[31m|\u001b[0m\u001b[1m\u001b[31m_\u001b[0m\u001b[1m\u001b[31m|\u001b[0m\u001b[97m.\u001b[0m\u001b[1m\u001b[31m|\u001b[0m\u001b[1m\u001b[31m_\u001b[0m\u001b[1m\u001b[31m|\u001b[0m\u001b[97m.\u001b[0m\u001b[1m\u001b[31m|\u001b[0m\u001b[97m_\u001b[0m\u001b[97m|\u001b[0m\u001b[97m.\u001b[0m\u001b[1m\u001b[31m|\u001b[0m\u001b[97m_\u001b[0m\u001b[97m|\u001b[0m\u001b[97m.\u001b[0m\u001b[97m|\u001b[0m\u001b[1m\u001b[31m_\u001b[0m\u001b[1m\u001b[31m|\u001b[0m\u001b[97m.\u001b[0m\u001b[97m|\u001b[0m\u001b[1m\u001b[31m_\u001b[0m\u001b[1m\u001b[31m|\u001b[0m\u001b[97m.\u001b[0m\u001b[97m|\u001b[0m\u001b[1m\u001b[31m_\u001b[0m\u001b[1m\u001b[31m|\u001b[0m\u001b[97m.\u001b[0m\u001b[97m|\u001b[0m\u001b[1m\u001b[31m_\u001b[0m\u001b[1m\u001b[31m|\u001b[0m\u001b[97m.\u001b[0m\n",
      "playing: 4\n",
      "16 converted to: 4\n",
      "\u001b[97m •  \u001b[0m\u001b[97m •  \u001b[0m\u001b[1m\u001b[31m *  \u001b[0m\u001b[97m •  \u001b[0m\u001b[97m •  \u001b[0m\u001b[97m •  \u001b[0m\u001b[97m •  \u001b[0m\u001b[97m •  \u001b[0m\n",
      "\u001b[1m\u001b[31m *  \u001b[0m\u001b[97m •  \u001b[0m\u001b[97m •  \u001b[0m\u001b[97m •  \u001b[0m\u001b[97m •  \u001b[0m\u001b[97m •  \u001b[0m\u001b[97m •  \u001b[0m\u001b[97m •  \u001b[0m\u001b[97m •  \u001b[0m\n",
      " \u001b[1m\u001b[31m_\u001b[0m   \u001b[1m\u001b[31m_\u001b[0m   \u001b[1m\u001b[31m_\u001b[0m   \u001b[97m_\u001b[0m   \u001b[97m_\u001b[0m   \u001b[1m\u001b[31m_\u001b[0m   \u001b[1m\u001b[31m_\u001b[0m   \u001b[97m_\u001b[0m  \n",
      "\u001b[1m\u001b[31m|\u001b[0m\u001b[1m\u001b[31m_\u001b[0m\u001b[1m\u001b[31m|\u001b[0m \u001b[1m\u001b[31m|\u001b[0m\u001b[1m\u001b[31m_\u001b[0m\u001b[1m\u001b[31m|\u001b[0m \u001b[1m\u001b[31m|\u001b[0m\u001b[1m\u001b[31m_\u001b[0m\u001b[1m\u001b[31m|\u001b[0m \u001b[97m|\u001b[0m\u001b[97m_\u001b[0m\u001b[1m\u001b[31m|\u001b[0m \u001b[97m|\u001b[0m\u001b[97m_\u001b[0m\u001b[97m|\u001b[0m \u001b[1m\u001b[31m|\u001b[0m\u001b[97m_\u001b[0m\u001b[1m\u001b[31m|\u001b[0m \u001b[1m\u001b[31m|\u001b[0m\u001b[1m\u001b[31m_\u001b[0m\u001b[97m|\u001b[0m \u001b[1m\u001b[31m|\u001b[0m\u001b[97m_\u001b[0m\u001b[1m\u001b[31m|\u001b[0m \n",
      "\u001b[1m\u001b[31m|\u001b[0m\u001b[1m\u001b[31m_\u001b[0m\u001b[1m\u001b[31m|\u001b[0m\u001b[97m.\u001b[0m\u001b[1m\u001b[31m|\u001b[0m\u001b[1m\u001b[31m_\u001b[0m\u001b[1m\u001b[31m|\u001b[0m\u001b[97m.\u001b[0m\u001b[1m\u001b[31m|\u001b[0m\u001b[1m\u001b[31m_\u001b[0m\u001b[1m\u001b[31m|\u001b[0m\u001b[97m.\u001b[0m\u001b[1m\u001b[31m|\u001b[0m\u001b[97m_\u001b[0m\u001b[97m|\u001b[0m\u001b[97m.\u001b[0m\u001b[97m|\u001b[0m\u001b[1m\u001b[31m_\u001b[0m\u001b[1m\u001b[31m|\u001b[0m\u001b[97m.\u001b[0m\u001b[97m|\u001b[0m\u001b[1m\u001b[31m_\u001b[0m\u001b[1m\u001b[31m|\u001b[0m\u001b[97m.\u001b[0m\u001b[97m|\u001b[0m\u001b[1m\u001b[31m_\u001b[0m\u001b[1m\u001b[31m|\u001b[0m\u001b[97m.\u001b[0m\u001b[97m|\u001b[0m\u001b[1m\u001b[31m_\u001b[0m\u001b[1m\u001b[31m|\u001b[0m\u001b[97m.\u001b[0m\n",
      "playing: 6\n",
      "64 converted to: 6\n",
      "\u001b[97m •  \u001b[0m\u001b[97m •  \u001b[0m\u001b[97m •  \u001b[0m\u001b[1m\u001b[31m *  \u001b[0m\u001b[97m •  \u001b[0m\u001b[97m •  \u001b[0m\u001b[97m •  \u001b[0m\u001b[97m •  \u001b[0m\n",
      " \u001b[97m_\u001b[0m   \u001b[97m_\u001b[0m   \u001b[1m\u001b[31m_\u001b[0m   \u001b[1m\u001b[31m_\u001b[0m   \u001b[1m\u001b[31m_\u001b[0m   \u001b[1m\u001b[31m_\u001b[0m   \u001b[97m_\u001b[0m   \u001b[97m_\u001b[0m  \n",
      "\u001b[97m|\u001b[0m\u001b[1m\u001b[31m_\u001b[0m\u001b[97m|\u001b[0m \u001b[97m|\u001b[0m\u001b[1m\u001b[31m_\u001b[0m\u001b[97m|\u001b[0m \u001b[1m\u001b[31m|\u001b[0m\u001b[1m\u001b[31m_\u001b[0m\u001b[97m|\u001b[0m \u001b[1m\u001b[31m|\u001b[0m\u001b[1m\u001b[31m_\u001b[0m\u001b[1m\u001b[31m|\u001b[0m \u001b[1m\u001b[31m|\u001b[0m\u001b[1m\u001b[31m_\u001b[0m\u001b[97m|\u001b[0m \u001b[1m\u001b[31m|\u001b[0m\u001b[1m\u001b[31m_\u001b[0m\u001b[97m|\u001b[0m \u001b[97m|\u001b[0m\u001b[1m\u001b[31m_\u001b[0m\u001b[97m|\u001b[0m \u001b[97m|\u001b[0m\u001b[1m\u001b[31m_\u001b[0m\u001b[97m|\u001b[0m \n",
      "\u001b[97m|\u001b[0m\u001b[97m_\u001b[0m\u001b[97m|\u001b[0m\u001b[97m.\u001b[0m\u001b[97m|\u001b[0m\u001b[97m_\u001b[0m\u001b[97m|\u001b[0m\u001b[97m.\u001b[0m\u001b[97m|\u001b[0m\u001b[1m\u001b[31m_\u001b[0m\u001b[1m\u001b[31m|\u001b[0m\u001b[97m.\u001b[0m\u001b[1m\u001b[31m|\u001b[0m\u001b[97m_\u001b[0m\u001b[1m\u001b[31m|\u001b[0m\u001b[97m.\u001b[0m\u001b[1m\u001b[31m|\u001b[0m\u001b[97m_\u001b[0m\u001b[97m|\u001b[0m\u001b[97m.\u001b[0m\u001b[1m\u001b[31m|\u001b[0m\u001b[1m\u001b[31m_\u001b[0m\u001b[97m|\u001b[0m\u001b[97m.\u001b[0m\u001b[97m|\u001b[0m\u001b[97m_\u001b[0m\u001b[97m|\u001b[0m\u001b[97m.\u001b[0m\u001b[97m|\u001b[0m\u001b[97m_\u001b[0m\u001b[97m|\u001b[0m\u001b[97m.\u001b[0m\n"
     ]
    }
   ],
   "source": [
    "# Check all answers correct wins game\n",
    "for answer in space_game.correct_answer_conditions:\n",
    "    test_play(answer)"
   ]
  },
  {
   "cell_type": "code",
   "execution_count": 9,
   "id": "a9d4cf09-ed12-447c-9981-5bc933c8aea0",
   "metadata": {
    "tags": []
   },
   "outputs": [
    {
     "name": "stdout",
     "output_type": "stream",
     "text": [
      "playing: 0\n",
      " \u001b[97m_\u001b[0m   \u001b[97m_\u001b[0m   \u001b[1m\u001b[31m_\u001b[0m   \u001b[1m\u001b[31m_\u001b[0m   \u001b[1m\u001b[31m_\u001b[0m   \u001b[1m\u001b[31m_\u001b[0m   \u001b[97m_\u001b[0m   \u001b[97m_\u001b[0m  \n",
      "\u001b[97m|\u001b[0m\u001b[1m\u001b[31m_\u001b[0m\u001b[97m|\u001b[0m \u001b[97m|\u001b[0m\u001b[1m\u001b[31m_\u001b[0m\u001b[97m|\u001b[0m \u001b[1m\u001b[31m|\u001b[0m\u001b[1m\u001b[31m_\u001b[0m\u001b[97m|\u001b[0m \u001b[1m\u001b[31m|\u001b[0m\u001b[1m\u001b[31m_\u001b[0m\u001b[1m\u001b[31m|\u001b[0m \u001b[1m\u001b[31m|\u001b[0m\u001b[1m\u001b[31m_\u001b[0m\u001b[97m|\u001b[0m \u001b[1m\u001b[31m|\u001b[0m\u001b[1m\u001b[31m_\u001b[0m\u001b[97m|\u001b[0m \u001b[97m|\u001b[0m\u001b[1m\u001b[31m_\u001b[0m\u001b[97m|\u001b[0m \u001b[97m|\u001b[0m\u001b[1m\u001b[31m_\u001b[0m\u001b[97m|\u001b[0m \n",
      "\u001b[97m|\u001b[0m\u001b[97m_\u001b[0m\u001b[97m|\u001b[0m\u001b[97m.\u001b[0m\u001b[97m|\u001b[0m\u001b[97m_\u001b[0m\u001b[97m|\u001b[0m\u001b[97m.\u001b[0m\u001b[97m|\u001b[0m\u001b[1m\u001b[31m_\u001b[0m\u001b[1m\u001b[31m|\u001b[0m\u001b[97m.\u001b[0m\u001b[1m\u001b[31m|\u001b[0m\u001b[97m_\u001b[0m\u001b[1m\u001b[31m|\u001b[0m\u001b[97m.\u001b[0m\u001b[1m\u001b[31m|\u001b[0m\u001b[97m_\u001b[0m\u001b[97m|\u001b[0m\u001b[97m.\u001b[0m\u001b[1m\u001b[31m|\u001b[0m\u001b[1m\u001b[31m_\u001b[0m\u001b[97m|\u001b[0m\u001b[97m.\u001b[0m\u001b[97m|\u001b[0m\u001b[97m_\u001b[0m\u001b[97m|\u001b[0m\u001b[97m.\u001b[0m\u001b[97m|\u001b[0m\u001b[97m_\u001b[0m\u001b[97m|\u001b[0m\u001b[97m.\u001b[0m\n"
     ]
    }
   ],
   "source": [
    "# Check the game stays finished\n",
    "test_play(0)"
   ]
  },
  {
   "cell_type": "code",
   "execution_count": null,
   "id": "f5e0b20e-b29e-463e-a817-530bb04fb2a6",
   "metadata": {},
   "outputs": [],
   "source": []
  }
 ],
 "metadata": {
  "kernelspec": {
   "display_name": "Python 3 (ipykernel)",
   "language": "python",
   "name": "python3"
  },
  "language_info": {
   "codemirror_mode": {
    "name": "ipython",
    "version": 3
   },
   "file_extension": ".py",
   "mimetype": "text/x-python",
   "name": "python",
   "nbconvert_exporter": "python",
   "pygments_lexer": "ipython3",
   "version": "3.11.5"
  }
 },
 "nbformat": 4,
 "nbformat_minor": 5
}
